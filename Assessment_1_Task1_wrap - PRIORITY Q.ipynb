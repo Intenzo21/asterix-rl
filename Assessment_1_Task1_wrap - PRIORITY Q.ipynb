{
 "cells": [
  {
   "cell_type": "markdown",
   "metadata": {},
   "source": [
    "# University of Aberdeen\n",
    "\n",
    "## Applied AI (CS5079)\n",
    "\n",
    "### Tutorial (Day 3) - Reinforcement Learning with OpenAI Gym\n",
    "\n",
    "---\n",
    "\n",
    "The practical is inspired from the code on: https://github.com/ageron/handson-ml/blob/master/16_reinforcement_learning.ipynb\n",
    "\n",
    "\n",
    "## Learning Outcomes\n",
    "\n",
    "On successful completion of this component a student will have demonstrated competence in creating and training an agent to play an Atari game using the screen frames as input\n",
    "\n",
    "### In this tutorial, we will use the following libraries and modules"
   ]
  },
  {
   "cell_type": "code",
   "execution_count": 1,
   "metadata": {},
   "outputs": [
    {
     "name": "stdout",
     "output_type": "stream",
     "text": [
      "Collecting git+https://github.com/openai/baselines.git\n",
      "  Cloning https://github.com/openai/baselines.git to c:\\users\\alexa\\appdata\\local\\temp\\pip-req-build-vlo6sdpk\n",
      "  Resolved https://github.com/openai/baselines.git to commit ea25b9e8b234e6ee1bca43083f8f3cf974143998\n",
      "  Preparing metadata (setup.py): started\n",
      "  Preparing metadata (setup.py): finished with status 'done'\n",
      "Requirement already satisfied: gym<0.16.0,>=0.15.4 in c:\\users\\public\\masters\\symbolic\\lib\\site-packages (from baselines==0.1.6) (0.15.7)\n",
      "Requirement already satisfied: scipy in c:\\users\\public\\masters\\symbolic\\lib\\site-packages (from baselines==0.1.6) (1.7.1)\n",
      "Requirement already satisfied: tqdm in c:\\users\\public\\masters\\symbolic\\lib\\site-packages (from baselines==0.1.6) (4.62.3)\n",
      "Requirement already satisfied: joblib in c:\\users\\public\\masters\\symbolic\\lib\\site-packages (from baselines==0.1.6) (1.1.0)\n",
      "Requirement already satisfied: cloudpickle in c:\\users\\public\\masters\\symbolic\\lib\\site-packages (from baselines==0.1.6) (1.2.2)\n",
      "Requirement already satisfied: click in c:\\users\\public\\masters\\symbolic\\lib\\site-packages (from baselines==0.1.6) (8.0.3)\n",
      "Requirement already satisfied: opencv-python in c:\\users\\public\\masters\\symbolic\\lib\\site-packages (from baselines==0.1.6) (4.5.3.56)\n",
      "Requirement already satisfied: pyglet<=1.5.0,>=1.4.0 in c:\\users\\public\\masters\\symbolic\\lib\\site-packages (from gym<0.16.0,>=0.15.4->baselines==0.1.6) (1.5.0)\n",
      "Requirement already satisfied: six in c:\\users\\public\\masters\\symbolic\\lib\\site-packages (from gym<0.16.0,>=0.15.4->baselines==0.1.6) (1.15.0)\n",
      "Requirement already satisfied: numpy>=1.10.4 in c:\\users\\public\\masters\\symbolic\\lib\\site-packages (from gym<0.16.0,>=0.15.4->baselines==0.1.6) (1.19.5)\n",
      "Requirement already satisfied: colorama in c:\\users\\public\\masters\\symbolic\\lib\\site-packages (from click->baselines==0.1.6) (0.4.4)\n",
      "Requirement already satisfied: importlib-metadata in c:\\users\\public\\masters\\symbolic\\lib\\site-packages (from click->baselines==0.1.6) (4.8.1)\n",
      "Requirement already satisfied: future in c:\\users\\public\\masters\\symbolic\\lib\\site-packages (from pyglet<=1.5.0,>=1.4.0->gym<0.16.0,>=0.15.4->baselines==0.1.6) (0.18.2)\n",
      "Requirement already satisfied: zipp>=0.5 in c:\\users\\public\\masters\\symbolic\\lib\\site-packages (from importlib-metadata->click->baselines==0.1.6) (3.5.0)\n",
      "Requirement already satisfied: typing-extensions>=3.6.4 in c:\\users\\public\\masters\\symbolic\\lib\\site-packages (from importlib-metadata->click->baselines==0.1.6) (3.7.4.3)\n"
     ]
    },
    {
     "name": "stderr",
     "output_type": "stream",
     "text": [
      "  Running command git clone --filter=blob:none -q https://github.com/openai/baselines.git 'C:\\Users\\alexa\\AppData\\Local\\Temp\\pip-req-build-vlo6sdpk'\n"
     ]
    }
   ],
   "source": [
    "!pip install git+https://github.com/openai/baselines.git\n"
   ]
  },
  {
   "cell_type": "code",
   "execution_count": 2,
   "metadata": {},
   "outputs": [
    {
     "name": "stderr",
     "output_type": "stream",
     "text": [
      "c:\\users\\public\\masters\\symbolic\\lib\\site-packages\\gym\\logger.py:30: UserWarning: \u001b[33mWARN: Box bound precision lowered by casting to float32\u001b[0m\n",
      "  warnings.warn(colorize('%s: %s'%('WARN', msg % args), 'yellow'))\n"
     ]
    },
    {
     "data": {
      "text/plain": [
       "[1337, 17452119]"
      ]
     },
     "execution_count": 2,
     "metadata": {},
     "output_type": "execute_result"
    }
   ],
   "source": [
    "# For deep neural networks\n",
    "import tensorflow as tf\n",
    "\n",
    "from baselines.common.atari_wrappers import make_atari, wrap_deepmind, NoopResetEnv, FrameStack\n",
    "from tensorflow import keras\n",
    "from tensorflow.keras import layers\n",
    "\n",
    "# For data representation\n",
    "import numpy as np\n",
    "import random\n",
    "\n",
    "# For handling files\n",
    "import os\n",
    "\n",
    "# For plotting graphs\n",
    "import matplotlib\n",
    "import matplotlib.pyplot as plt\n",
    "%matplotlib inline\n",
    "\n",
    "# OpenAI Gym\n",
    "import gym\n",
    "env = gym.make(\"Asterix-v0\")\n",
    "env = NoopResetEnv(env, noop_max=30)\n",
    "env = wrap_deepmind(env, frame_stack=False, scale=True, clip_rewards=False, episode_life=False)\n",
    "FRAME_STACK_SIZE = 3\n",
    "env = FrameStack(env, FRAME_STACK_SIZE)\n",
    "\n",
    "env.seed(1337)\n",
    "# I have installed pyglet-1.5.11 for it work with BigSur"
   ]
  },
  {
   "cell_type": "markdown",
   "metadata": {},
   "source": [
    "## Atari Games\n",
    "\n",
    "In this tutorial, we will create an agent to play the Boxing Atari game. In this game, two boxers, one white and one black, compete against each other. When close enough, a boxer can hit his opponent with a punch which causes his opponent to reel back slightly. A match is completed either when one player lands 100 punches or two minutes have elapsed. In the case of a decision, the player with the most landed punches is the winner. Ties are possible. \n",
    "\n",
    "![Activision's Boxing Cartridge](img/Boxing.png)\n",
    "\n",
    "In this tutorial, we will use the pixels as inputs. The OpenAI Gym environment is `Boxing-v0`. \n",
    "\n",
    "### Naive Agent\n",
    "1.1. For the boxing game, describe the observations, the action space, the reward, the environment’s info dictionary and the episode.\n"
   ]
  },
  {
   "cell_type": "code",
   "execution_count": 3,
   "metadata": {},
   "outputs": [
    {
     "name": "stdout",
     "output_type": "stream",
     "text": [
      "Observation space: Box(84, 84, 3)\n",
      "Action space: Discrete(9)\n",
      "Possible actions: ['NOOP', 'UP', 'RIGHT', 'LEFT', 'DOWN', 'UPRIGHT', 'UPLEFT', 'DOWNRIGHT', 'DOWNLEFT']\n"
     ]
    }
   ],
   "source": [
    "print(\"Observation space:\", env.observation_space)\n",
    "print(\"Action space:\", env.action_space)\n",
    "print(\"Possible actions:\", env.unwrapped.get_action_meanings())"
   ]
  },
  {
   "cell_type": "markdown",
   "metadata": {},
   "source": [
    "The observation space is an RGB picture of size 210x160 whereas the action space is composed of the 18 possible moves from an ATARI controller. The info dictionary contains `ale.lives()` which refers to the number of lives left (but here there is no finite number of lives)."
   ]
  },
  {
   "cell_type": "markdown",
   "metadata": {},
   "source": [
    "1.2. Create a simple agent that performs random actions."
   ]
  },
  {
   "cell_type": "code",
   "execution_count": 4,
   "metadata": {},
   "outputs": [
    {
     "name": "stdout",
     "output_type": "stream",
     "text": [
      "Average reward: 0.0\n"
     ]
    }
   ],
   "source": [
    "class RandomAgent():\n",
    "    def __init__(self, env):\n",
    "        self.action_size = env.action_space.n\n",
    "        \n",
    "    def get_action(self, observation):\n",
    "        return random.choice(range(self.action_size))\n",
    "    \n",
    "total_reward=0\n",
    "agent = RandomAgent(env)\n",
    "numberOfEpisodes = 10\n",
    "# for steps in range(numberOfEpisodes):\n",
    "#     current_obs = env.reset()\n",
    "#     done = False\n",
    "#     while not done:\n",
    "#         action = agent.get_action(current_obs)\n",
    "#         next_obs, reward, done, info = env.step(action)\n",
    "#         total_reward += reward\n",
    "#         env.render()\n",
    "print(\"Average reward: {}\".format(total_reward/numberOfEpisodes))"
   ]
  },
  {
   "cell_type": "markdown",
   "metadata": {},
   "source": [
    "### Deep Q-Learning Agent\n",
    "\n",
    "1.3. Implement a pre-processing function to convert the $210\\times160$ RGB frames to $96\\times80$ greyscale frames. Then, change the type of the matrix to `int8`.\n"
   ]
  },
  {
   "cell_type": "code",
   "execution_count": 5,
   "metadata": {},
   "outputs": [
    {
     "data": {
      "image/png": "[encoded data removed]",
      "text/plain": [
       "<Figure size 432x288 with 1 Axes>"
      ]
     },
     "metadata": {
      "needs_background": "light"
     },
     "output_type": "display_data"
    }
   ],
   "source": [
    "obs = env.reset()\n",
    "from skimage.color import rgb2gray\n",
    "\n",
    "def preprocess_observation(observation):\n",
    "    img = observation[23:153:2, ::2] # This becomes 90, 80, 3\n",
    "#     print(img.shape)\n",
    "#     print(img.shape)\n",
    "#     img = img.mean(axis=2) #to grayscale (values between 0 and 255)\n",
    "    img = rgb2gray(img)\n",
    "    img = img.astype(np.float32) # normalize from -128 to 127\n",
    "    return img.reshape(65, 80)\n",
    "\n",
    "\n",
    "plt.imshow(obs[:,:,0], cmap='gray')\n",
    "plt.show()\n"
   ]
  },
  {
   "cell_type": "markdown",
   "metadata": {},
   "source": [
    "1.4. Create a function `q_network` that (1) takes as input a variable of shape $(96,80,1)$, (2) creates a deep convolutional network with 3 convolutional hidden layers and two dense layers, and (3) returns the output layer and the trainable variables in a dictionary where the keys are the name of the variables."
   ]
  },
  {
   "cell_type": "code",
   "execution_count": 6,
   "metadata": {},
   "outputs": [],
   "source": [
    "# Import the Keras layer used for building our models\n",
    "from tensorflow.keras import Sequential\n",
    "from tensorflow.keras.layers import Dense, Flatten, Conv2D,\\\n",
    "MaxPool2D, Dropout, BatchNormalization\n",
    "from tensorflow.keras.optimizers import Adam\n",
    "from tensorflow.keras.initializers import HeUniform\n",
    "from tensorflow.keras.losses import Huber\n",
    "\n",
    "INPUT_SHAPE = (84, 84, 3)\n",
    "NUM_ACTIONS = env.action_space.n\n",
    "BATCH_SIZE = 32\n",
    "MEMORY_SIZE = 2000\n",
    "MIN_REPLAY_SIZE = 2000\n",
    "LEARNING_RATE = 0.0001"
   ]
  },
  {
   "cell_type": "markdown",
   "metadata": {},
   "source": [
    "1.5. Create an agent `QLearningAgent` with two deep convolutional networks (`online` and `target`) to predict the action to be taken from the game's frames. The `online` network will be trained and replace the `target`network every $5000$ training steps.\n",
    "\n",
    "\n",
    "1.6. Create a method `get_action` using a parameter $\\epsilon$ for making random moves. This parameter will decrease from $1$ to $0.1$.\n",
    "\n",
    "1.7. Create a method `train` to update the weights of the `online` network using the Q-values of the `target` network. We will use a discount rate of $0.99$. "
   ]
  },
  {
   "cell_type": "code",
   "execution_count": 7,
   "metadata": {},
   "outputs": [],
   "source": [
    "class PrioritizedReplayBuffer():\n",
    "    def __init__(self, maxlen):\n",
    "        self.buffer = deque(maxlen=maxlen)\n",
    "        self.priorities = deque(maxlen=maxlen)\n",
    "        \n",
    "    def add(self, experience):\n",
    "        self.buffer.append(experience)\n",
    "        self.priorities.append(max(self.priorities, default=1))\n",
    "        \n",
    "    def get_probabilities(self, priority_scale):\n",
    "        scaled_priorities = np.array(self.priorities) ** priority_scale\n",
    "        sample_probabilities = scaled_priorities / sum(scaled_priorities)\n",
    "        return sample_probabilities\n",
    "    \n",
    "    def get_importance(self, probabilities):\n",
    "        importance = 1/len(self.buffer) * 1/probabilities\n",
    "        importance_normalized = importance / max(importance)\n",
    "        return importance_normalized\n",
    "        \n",
    "    def sample(self, batch_size, priority_scale=1.0):\n",
    "        sample_size = min(len(self.buffer), batch_size)\n",
    "        sample_probs = self.get_probabilities(priority_scale)\n",
    "        sample_indices = random.choices(range(len(self.buffer)), k=sample_size, weights=sample_probs)\n",
    "        samples = np.array(self.buffer)[sample_indices]\n",
    "        importance = self.get_importance(sample_probs[sample_indices])\n",
    "        return samples, importance, sample_indices\n",
    "    \n",
    "    def set_priorities(self, indices, errors, offset=0.1):\n",
    "        for i,e in zip(indices, errors):\n",
    "            self.priorities[i] = abs(e) + offset"
   ]
  },
  {
   "cell_type": "code",
   "execution_count": 24,
   "metadata": {},
   "outputs": [],
   "source": [
    "from collections import deque\n",
    "\n",
    "class QLearningAgent():\n",
    "    def __init__(self, env, lr=LEARNING_RATE):\n",
    "        self.lr = lr\n",
    "        self.memory = PrioritizedReplayBuffer(maxlen=MEMORY_SIZE)\n",
    "        self.loss_val = np.inf\n",
    "        self.action_size = NUM_ACTIONS\n",
    "        tf.compat.v1.disable_eager_execution()\n",
    "        self.discount_rate = 0.99\n",
    "        self.checkpoint_path = \"./my_dqn.ckpt\"\n",
    "\n",
    "        # Create the two networks for predicting the actions\n",
    "        # The first model makes the predictions for Q-values \n",
    "        # which are used to make a action.\n",
    "        self.online = self.q_network()\n",
    "        \n",
    "        # Build a target model for the prediction of future\n",
    "        # rewards. The weights of a target model get updated \n",
    "        # every 5000 steps thus when the loss between the \n",
    "        # Q-values is calculated the target Q-value is stable.\n",
    "        self.target = self.q_network()\n",
    "\n",
    "        #The \"target\" DNN will take the values of the \"online\" DNN\n",
    "        self.update_target()\n",
    "\n",
    "        # Saving the session\n",
    "#         self.saver = tf.compat.v1.train.Saver()\n",
    "#         self.sess = tf.compat.v1.Session()\n",
    "#         if os.path.isfile(self.checkpoint_path + \".index\"):\n",
    "#             self.saver.restore(self.sess, self.checkpoint_path)\n",
    "#         else:\n",
    "# #             self.sess.run(tf.global_variables_initializer())\n",
    "#             self.update_target()\n",
    "# #             self.sess.run(self.copy_online_to_target)\n",
    "\n",
    "    def q_network(self, filters_1=32, filters_2=64, filters_3=64, units=256):\n",
    "        \"\"\"Define and return the CNN model architecture\n",
    "        \"\"\"\n",
    "        # Ensure reproducibility of the results\n",
    "        # by resetting the random seeds\n",
    "        # reset_random_seeds()\n",
    "\n",
    "        # Build the model\n",
    "        kernel_init = HeUniform()\n",
    "        model = Sequential()\n",
    "        model.add(Conv2D(filters_1, kernel_size=8, padding=\"same\", strides=4, activation='relu', input_shape=INPUT_SHAPE, kernel_initializer=kernel_init))\n",
    "        model.add(Conv2D(filters_2, kernel_size=4, padding=\"same\", strides=2, activation='relu', kernel_initializer=kernel_init))\n",
    "        model.add(Conv2D(filters_3, kernel_size=3, padding=\"same\", strides=1, activation='relu', kernel_initializer=kernel_init))\n",
    "        model.add(Flatten())\n",
    "        model.add(Dense(512, activation='relu', kernel_initializer=kernel_init))\n",
    "        model.add(Dense(NUM_ACTIONS, activation=\"linear\", kernel_initializer=kernel_init))\n",
    "        return model\n",
    "            \n",
    "    def update_target(self):\n",
    "        \"\"\"Update the target network with the online network weights\n",
    "        \"\"\"\n",
    "        # Get the online DQN weights\n",
    "        online_weights = self.online.get_weights()\n",
    "        \n",
    "        # Update the target DQN weights\n",
    "        self.target.set_weights(online_weights)\n",
    "        \n",
    "    #---- CHOSSING ACTION ----\n",
    "    def get_action(self, state, step):\n",
    "        epsilon = max(0.1, 1 - (0.9/2000000) * step)\n",
    "        if step <= MIN_REPLAY_SIZE or np.random.rand() < epsilon:\n",
    "            return np.random.randint(self.action_size) # random action\n",
    "        else:\n",
    "            self.online.compile(loss=\"huber_loss\", optimizer=Adam(learning_rate=self.lr))\n",
    "            q_values = self.online.predict(state.reshape(-1, *INPUT_SHAPE))\n",
    "            return np.argmax(q_values) # optimal action\n",
    "    \n",
    "    def train(self):\n",
    "        \"\"\"Train the online model and update the loss value\n",
    "        \"\"\"\n",
    "        if len(self.memory.buffer) < BATCH_SIZE:\n",
    "            return\n",
    "        \n",
    "        # https://www.cs.toronto.edu/~vmnih/docs/dqn.pdf SAY ABOUT NUMBER OF FRAMES\n",
    "        samples, importance, indeces = self.memory.sample(BATCH_SIZE)\n",
    "        \n",
    "        self.online.compile(loss=\"huber_loss\", optimizer=Adam(learning_rate=self.lr), loss_weights=[importance])\n",
    "        self.target.compile(loss=\"huber_loss\", optimizer=Adam(learning_rate=self.lr), loss_weights=[importance])\n",
    "        curr_states = np.array([sample[0] for sample in samples])\n",
    "#         curr_states = np.stack([self.stack_frames(idx) for idx in sample_indexes])\n",
    "        states_q_vals = self.online.predict(curr_states)\n",
    "        \n",
    "#         next_states = np.stack([self.stack_frames(idx, 3) for idx in sample_indexes])\n",
    "        next_states = np.array([sample[3] for sample in samples])\n",
    "        targets_q_vals = self.target.predict(next_states)\n",
    "\n",
    "        Y = []\n",
    "        \n",
    "        for idx, (curr_state, action, reward, next_state, done) in enumerate(samples):\n",
    "            if done:\n",
    "                future_q_val = reward\n",
    "            else:\n",
    "                future_q_val = reward + np.amax(targets_q_vals[idx]) * self.discount_rate\n",
    "            \n",
    "            # Get the current Q value\n",
    "            curr_q_val = states_q_vals[idx]\n",
    "            curr_q_val[action] = future_q_val\n",
    "#             curr_q_val[action] = (1 - learning_rate) * curr_q_val[action] + learning_rate * future_q_val\n",
    "            Y.append(curr_q_val)\n",
    "    \n",
    "        hist = self.online.fit(curr_states, np.array(Y), batch_size=BATCH_SIZE, epochs=1, verbose=0, shuffle=True)\n",
    "        self.loss_val = hist.history['loss'][0]\n",
    "        \n",
    "        self.memory.set_priorities(indeces, self.loss_val)\n",
    "    \n",
    "    def save_to_memory(self, curr_state, action, reward, next_state, done):\n",
    "        self.memory.add([curr_state, action, reward, next_state, done])\n",
    "        \n",
    "\n"
   ]
  },
  {
   "cell_type": "markdown",
   "metadata": {},
   "source": [
    "1.8. Train your network for $1,000,000$ training steps. Since the training process can take __a lot of time__, save your models every $1000$ training steps. You can choose to only train your model every $4$ frames instead of every frames."
   ]
  },
  {
   "cell_type": "code",
   "execution_count": null,
   "metadata": {},
   "outputs": [
    {
     "name": "stdout",
     "output_type": "stream",
     "text": [
      "\tAction step: 0/1000000 (0.00%)\tLoss:   inf\tAVG reward: 0\tTotal mean: nan\n",
      "\tAction step: 410/1000000 (0.04%)\tLoss:   inf\tAVG reward: 50\tTotal mean: 150.0\n",
      "\tAction step: 668/1000000 (0.07%)\tLoss:   inf\tAVG reward: 50\tTotal mean: 150.0\n",
      "\tAction step: 1014/1000000 (0.10%)\tLoss:   inf\tAVG reward: 100\tTotal mean: 200.0\n",
      "\tAction step: 1675/1000000 (0.17%)\tLoss:   inf\tAVG reward: 250\tTotal mean: 337.5\n",
      "\tAction step: 1976/1000000 (0.20%)\tLoss:   inf"
     ]
    }
   ],
   "source": [
    "import time\n",
    "agent = QLearningAgent(env)  \n",
    "ep_rewards = []\n",
    "total_reward = 0\n",
    "n_steps = 1000000  # total number of training steps\n",
    "save_steps = 50\n",
    "\n",
    "\n",
    "# Train the model after 4 actions\n",
    "train_online_steps = 4\n",
    "\n",
    "# Update teh target every 10,000 steps (1 epoch)\n",
    "# Considered as a hyperparameter\n",
    "update_target_steps = 10000\n",
    "\n",
    "done=True\n",
    "for step in range(n_steps):\n",
    "    total_perc = step * 100 / n_steps\n",
    "    print(f\"\\r\\tAction step: {step}/{n_steps} ({total_perc:.2f}%)\\tLoss: {agent.loss_val:5f}\", end=\"\")\n",
    "    if done: # game over, start again\n",
    "        avg_reward = int(total_reward/3)\n",
    "        if total_reward:\n",
    "            ep_rewards.append(total_reward)\n",
    "        print(f\"\\tAVG reward: {avg_reward}\\tTotal mean: {np.mean(ep_rewards)}\")\n",
    "        state = np.array(env.reset())\n",
    "        total_reward = 0\n",
    "#         state = preprocess_observation(obs)\n",
    "\n",
    "\n",
    "    # Get a exploration/exploitation action depending on the\n",
    "    # current epsilon value\n",
    "#     q_values = agent.online.predict(state)\n",
    "    action = agent.get_action(state, step)\n",
    "\n",
    "    # Online DQN plays\n",
    "    next_state, reward, done, info = env.step(action)\n",
    "    next_state = np.array(next_state)\n",
    "#     next_state = preprocess_observation(next_obs)\n",
    "    agent.save_to_memory(state, action, reward, next_state, done)\n",
    "    \n",
    "    if step > MIN_REPLAY_SIZE:\n",
    "        if step % train_online_steps == 0:\n",
    "            agent.train()\n",
    "\n",
    "        # Regularly copy the online DQN to the target DQN\n",
    "        if step % update_target_steps == 0:\n",
    "            agent.update_target()\n",
    "    \n",
    "    env.render()\n",
    "    total_reward += reward\n",
    "    state = next_state\n",
    "    # And save regularly\n",
    "#     if step % save_steps == 0:\n",
    "#         agent.saver.save(agent.sess, agent.checkpoint_path)\n",
    "env.close()"
   ]
  },
  {
   "cell_type": "code",
   "execution_count": null,
   "metadata": {},
   "outputs": [],
   "source": [
    "print(ep_rewards)"
   ]
  },
  {
   "cell_type": "markdown",
   "metadata": {},
   "source": [
    "1.8. Print the evolution of the total number of rewards w.r.t. the episodes.\n",
    "\n",
    "1.9. Analyse the behaviour of the saved agents, can you notice any emerging strategies?\n",
    "\n",
    "https://www.youtube.com/watch?v=OxOqLQ8Ed_k"
   ]
  },
  {
   "cell_type": "code",
   "execution_count": null,
   "metadata": {},
   "outputs": [],
   "source": [
    "np.stack([1,2,3]).reshape(3,1)"
   ]
  },
  {
   "cell_type": "code",
   "execution_count": null,
   "metadata": {},
   "outputs": [],
   "source": [
    "import pandas as pd\n",
    "x = pd.DataFrame(data=ep_rewards)"
   ]
  },
  {
   "cell_type": "code",
   "execution_count": null,
   "metadata": {},
   "outputs": [],
   "source": [
    "\n",
    "\n",
    "plt.rcParams['figure.figsize']= (20,6)\n",
    "plt.plot(ep_rewards)\n",
    "plt.show()"
   ]
  },
  {
   "cell_type": "code",
   "execution_count": null,
   "metadata": {},
   "outputs": [],
   "source": [
    "x['sum'].plot()"
   ]
  },
  {
   "cell_type": "code",
   "execution_count": null,
   "metadata": {},
   "outputs": [],
   "source": []
  }
 ],
 "metadata": {
  "kernelspec": {
   "display_name": "Python 3 (ipykernel)",
   "language": "python",
   "name": "python3"
  },
  "language_info": {
   "codemirror_mode": {
    "name": "ipython",
    "version": 3
   },
   "file_extension": ".py",
   "mimetype": "text/x-python",
   "name": "python",
   "nbconvert_exporter": "python",
   "pygments_lexer": "ipython3",
   "version": "3.7.7"
  }
 },
 "nbformat": 4,
 "nbformat_minor": 4
}
