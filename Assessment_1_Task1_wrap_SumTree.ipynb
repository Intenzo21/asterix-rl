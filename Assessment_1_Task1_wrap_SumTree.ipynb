{
 "cells": [
  {
   "cell_type": "markdown",
   "metadata": {},
   "source": [
    "# University of Aberdeen\n",
    "\n",
    "## Applied AI (CS5079)\n",
    "\n",
    "### Tutorial (Day 3) - Reinforcement Learning with OpenAI Gym\n",
    "\n",
    "---\n",
    "\n",
    "The practical is inspired from the code on: https://github.com/ageron/handson-ml/blob/master/16_reinforcement_learning.ipynb\n",
    "\n",
    "\n",
    "## Learning Outcomes\n",
    "\n",
    "On successful completion of this component a student will have demonstrated competence in creating and training an agent to play an Atari game using the screen frames as input\n",
    "\n",
    "### In this tutorial, we will use the following libraries and modules"
   ]
  },
  {
   "cell_type": "code",
   "execution_count": null,
   "metadata": {},
   "outputs": [],
   "source": [
    "!pip install git+https://github.com/openai/baselines.git\n"
   ]
  },
  {
   "cell_type": "code",
   "execution_count": 1,
   "metadata": {},
   "outputs": [
    {
     "name": "stderr",
     "output_type": "stream",
     "text": [
      "c:\\program files\\python38\\lib\\site-packages\\numpy\\_distributor_init.py:30: UserWarning: loaded more than 1 DLL from .libs:\n",
      "c:\\program files\\python38\\lib\\site-packages\\numpy\\.libs\\libopenblas.WCDJNK7YVMPZQ2ME2ZZHJJRJ3JIKNDB7.gfortran-win_amd64.dll\n",
      "c:\\program files\\python38\\lib\\site-packages\\numpy\\.libs\\libopenblas.XWYDX2IKJW2NMTWSFYNGFUWKQU3LYTCZ.gfortran-win_amd64.dll\n",
      "  warnings.warn(\"loaded more than 1 DLL from .libs:\"\n",
      "c:\\program files\\python38\\lib\\site-packages\\gym\\logger.py:30: UserWarning: \u001b[33mWARN: Box bound precision lowered by casting to float32\u001b[0m\n",
      "  warnings.warn(colorize('%s: %s'%('WARN', msg % args), 'yellow'))\n"
     ]
    },
    {
     "data": {
      "text/plain": [
       "[1337, 17452119]"
      ]
     },
     "execution_count": 1,
     "metadata": {},
     "output_type": "execute_result"
    }
   ],
   "source": [
    "# Seed value used for achieving reproducibility\n",
    "SEED_VALUE = 1337\n",
    "\n",
    "# 1. Set the `PYTHONHASHSEED` environment variable at a fixed value\n",
    "# For handling files\n",
    "import os\n",
    "os.environ['TF_DETERMINISTIC_OPS'] = '1'\n",
    "os.environ['TF_CUDNN_DETERMINISM'] = '1'\n",
    "os.environ['PYTHONHASHSEED'] = str(SEED_VALUE)\n",
    "\n",
    "# 2. Set the `python` built-in pseudo-random generator at a fixed value\n",
    "import random\n",
    "random.seed(SEED_VALUE)\n",
    "\n",
    "# 3. Set the `numpy` pseudo-random generator at a fixed value\n",
    "import numpy as np\n",
    "np.random.seed(SEED_VALUE)\n",
    "\n",
    "# 4. Set the `tensorflow` pseudo-random generator at a fixed value\n",
    "import tensorflow as tf\n",
    "tf.random.set_seed(SEED_VALUE)\n",
    "\n",
    "# Import the Keras backend used for freeing the global state\n",
    "# to avoid clutter\n",
    "from tensorflow.keras import backend as K\n",
    "\n",
    "# https://github.com/openai/baselines\n",
    "from baselines.common.atari_wrappers import make_atari, wrap_deepmind, NoopResetEnv, FrameStack\n",
    "from tensorflow import keras\n",
    "from tensorflow.keras import layers\n",
    "\n",
    "# For plotting graphs\n",
    "import matplotlib\n",
    "import matplotlib.pyplot as plt\n",
    "%matplotlib inline\n",
    "\n",
    "# OpenAI Gym\n",
    "import gym\n",
    "FRAME_STACK_SIZE = 3\n",
    "env = gym.make(\"Asterix-v0\")\n",
    "env = NoopResetEnv(env, noop_max=30)\n",
    "env = wrap_deepmind(env, frame_stack=False, scale=True, clip_rewards=False, episode_life=False)\n",
    "env = FrameStack(env, FRAME_STACK_SIZE)\n",
    "env.seed(SEED_VALUE)\n",
    "# I have installed pyglet-1.5.11 for it work with BigSur"
   ]
  },
  {
   "cell_type": "markdown",
   "metadata": {},
   "source": [
    "## Atari Games\n",
    "\n",
    "In this tutorial, we will create an agent to play the Boxing Atari game. In this game, two boxers, one white and one black, compete against each other. When close enough, a boxer can hit his opponent with a punch which causes his opponent to reel back slightly. A match is completed either when one player lands 100 punches or two minutes have elapsed. In the case of a decision, the player with the most landed punches is the winner. Ties are possible. \n",
    "\n",
    "![Activision's Boxing Cartridge](img/Boxing.png)\n",
    "\n",
    "In this tutorial, we will use the pixels as inputs. The OpenAI Gym environment is `Boxing-v0`. \n",
    "\n",
    "### Naive Agent\n",
    "1.1. For the boxing game, describe the observations, the action space, the reward, the environment’s info dictionary and the episode.\n"
   ]
  },
  {
   "cell_type": "code",
   "execution_count": 2,
   "metadata": {},
   "outputs": [
    {
     "name": "stdout",
     "output_type": "stream",
     "text": [
      "Observation space: Box(84, 84, 3)\n",
      "Action space: Discrete(9)\n",
      "Possible actions: ['NOOP', 'UP', 'RIGHT', 'LEFT', 'DOWN', 'UPRIGHT', 'UPLEFT', 'DOWNRIGHT', 'DOWNLEFT']\n"
     ]
    }
   ],
   "source": [
    "print(\"Observation space:\", env.observation_space)\n",
    "print(\"Action space:\", env.action_space)\n",
    "print(\"Possible actions:\", env.unwrapped.get_action_meanings())"
   ]
  },
  {
   "cell_type": "markdown",
   "metadata": {},
   "source": [
    "The observation space is an RGB picture of size 210x160 whereas the action space is composed of the 18 possible moves from an ATARI controller. The info dictionary contains `ale.lives()` which refers to the number of lives left (but here there is no finite number of lives)."
   ]
  },
  {
   "cell_type": "markdown",
   "metadata": {},
   "source": [
    "1.2. Create a simple agent that performs random actions."
   ]
  },
  {
   "cell_type": "markdown",
   "metadata": {},
   "source": [
    "### Deep Q-Learning Agent\n",
    "\n",
    "1.3. Implement a pre-processing function to convert the $210\\times160$ RGB frames to $96\\times80$ greyscale frames. Then, change the type of the matrix to `int8`.\n"
   ]
  },
  {
   "cell_type": "code",
   "execution_count": 3,
   "metadata": {},
   "outputs": [
    {
     "data": {
      "image/png": "[encoded data removed]",
      "text/plain": [
       "<Figure size 432x288 with 1 Axes>"
      ]
     },
     "metadata": {
      "needs_background": "light"
     },
     "output_type": "display_data"
    }
   ],
   "source": [
    "obs = env.reset()\n",
    "from skimage.color import rgb2gray\n",
    "\n",
    "# def preprocess_observation(observation):\n",
    "#     img = observation[23:153:2, ::2] # This becomes 90, 80, 3\n",
    "# #     print(img.shape)\n",
    "# #     print(img.shape)\n",
    "# #     img = img.mean(axis=2) #to grayscale (values between 0 and 255)\n",
    "#     img = rgb2gray(img)\n",
    "#     img = img.astype(np.float32) # normalize from -128 to 127\n",
    "#     return img.reshape(65, 80)\n",
    "\n",
    "\n",
    "plt.imshow(obs[:,:,0], cmap='gray')\n",
    "plt.show()"
   ]
  },
  {
   "cell_type": "markdown",
   "metadata": {},
   "source": [
    "1.4. Create a function `q_network` that (1) takes as input a variable of shape $(96,80,1)$, (2) creates a deep convolutional network with 3 convolutional hidden layers and two dense layers, and (3) returns the output layer and the trainable variables in a dictionary where the keys are the name of the variables."
   ]
  },
  {
   "cell_type": "code",
   "execution_count": 4,
   "metadata": {},
   "outputs": [],
   "source": [
    "# Import the garbage collector package\n",
    "import gc\n",
    "\n",
    "def reset_random_seeds():\n",
    "    \"\"\"Reset the random number generator seed to achieve full reproducibility \n",
    "    even when running the script on GPU\n",
    "    \"\"\"\n",
    "    # Release the global state to avoid clutter\n",
    "    # when creating models (in loops etc.)\n",
    "#     K.clear_session()\n",
    "    \n",
    "    # Reset the Tensorflow graph\n",
    "#     tf.compat.v1.reset_default_graph()\n",
    "    \n",
    "    # Set the environment determinism to guarantee\n",
    "    # reproducibility of the results\n",
    "    os.environ['TF_DETERMINISTIC_OPS'] = '1'\n",
    "    os.environ['TF_CUDNN_DETERMINISM'] = '1'\n",
    "    os.environ['PYTHONHASHSEED']=str(SEED_VALUE)\n",
    "    tf.random.set_seed(SEED_VALUE)\n",
    "    np.random.seed(SEED_VALUE)\n",
    "    random.seed(SEED_VALUE)\n",
    "    \n",
    "    # Perform garbage collection\n",
    "    gc.collect()\n",
    "    print(\"Random number generator seed reset!\")  # optional"
   ]
  },
  {
   "cell_type": "code",
   "execution_count": 5,
   "metadata": {},
   "outputs": [],
   "source": [
    "# Import the Keras layer used for building our models\n",
    "from tensorflow.keras import Sequential\n",
    "from tensorflow.keras.layers import Dense, Flatten, Conv2D,\\\n",
    "MaxPool2D, Dropout, BatchNormalization\n",
    "from tensorflow.keras.optimizers import Adam\n",
    "from tensorflow.keras.initializers import HeUniform\n",
    "\n",
    "INPUT_SHAPE = env.observation_space.shape\n",
    "NUM_ACTIONS = env.action_space.n\n",
    "BATCH_SIZE = 32\n",
    "MEMORY_SIZE = 25000\n",
    "MIN_REPLAY_SIZE = 20000\n",
    "LEARNING_RATE = 0.00025"
   ]
  },
  {
   "cell_type": "markdown",
   "metadata": {},
   "source": [
    "1.5. Create an agent `QLearningAgent` with two deep convolutional networks (`online` and `target`) to predict the action to be taken from the game's frames. The `online` network will be trained and replace the `target`network every $5000$ training steps.\n",
    "\n",
    "\n",
    "1.6. Create a method `get_action` using a parameter $\\epsilon$ for making random moves. This parameter will decrease from $1$ to $0.1$.\n",
    "\n",
    "1.7. Create a method `train` to update the weights of the `online` network using the Q-values of the `target` network. We will use a discount rate of $0.99$. "
   ]
  },
  {
   "cell_type": "code",
   "execution_count": 6,
   "metadata": {},
   "outputs": [],
   "source": [
    "class SumTree:\n",
    "    write = 0\n",
    "\n",
    "    def __init__(self, capacity):\n",
    "        self.capacity = capacity\n",
    "        self.tree = np.zeros( 2*capacity - 1 )\n",
    "        self.data = np.zeros( capacity, dtype=object )\n",
    "\n",
    "    def _propagate(self, idx, change):\n",
    "        parent = (idx - 1) // 2\n",
    "\n",
    "        self.tree[parent] += change\n",
    "\n",
    "        if parent != 0:\n",
    "            self._propagate(parent, change)\n",
    "\n",
    "    def _retrieve(self, idx, s):\n",
    "        left = 2 * idx + 1\n",
    "        right = left + 1\n",
    "\n",
    "        if left >= len(self.tree):\n",
    "            return idx\n",
    "\n",
    "        if s <= self.tree[left]:\n",
    "            return self._retrieve(left, s)\n",
    "        else:\n",
    "            return self._retrieve(right, s-self.tree[left])\n",
    "\n",
    "    def total(self):\n",
    "        return self.tree[0]\n",
    "\n",
    "    def add(self, p, data):\n",
    "        idx = self.write + self.capacity - 1\n",
    "\n",
    "        self.data[self.write] = data\n",
    "        self.update(idx, p)\n",
    "\n",
    "        self.write += 1\n",
    "        if self.write >= self.capacity:\n",
    "            self.write = 0\n",
    "\n",
    "    def update(self, idx, p):\n",
    "        change = p - self.tree[idx]\n",
    "\n",
    "        self.tree[idx] = p\n",
    "        self._propagate(idx, change)\n",
    "\n",
    "    def get(self, s):\n",
    "        idx = self._retrieve(0, s)\n",
    "        dataIdx = idx - self.capacity + 1\n",
    "\n",
    "        return (idx, self.tree[idx], self.data[dataIdx])"
   ]
  },
  {
   "cell_type": "code",
   "execution_count": 7,
   "metadata": {},
   "outputs": [],
   "source": [
    "#-------------------- MEMORY --------------------------\n",
    "class Memory:   # stored as ( s, a, r, s_ ) in SumTree\n",
    "    e = 0.01\n",
    "    a = 0.6\n",
    "\n",
    "    def __init__(self, capacity):\n",
    "        self.tree = SumTree(capacity)\n",
    "\n",
    "    def _getPriority(self, error):\n",
    "        return (error + self.e) ** self.a\n",
    "\n",
    "    def add(self, error, sample):\n",
    "        p = self._getPriority(error)\n",
    "        self.tree.add(p, sample) \n",
    "\n",
    "    def sample(self, n):\n",
    "        batch = []\n",
    "        segment = self.tree.total() / n\n",
    "\n",
    "        for i in range(n):\n",
    "            a = segment * i\n",
    "            b = segment * (i + 1)\n",
    "\n",
    "            s = random.uniform(a, b)\n",
    "            (idx, p, data) = self.tree.get(s)\n",
    "            batch.append( (idx, data) )\n",
    "\n",
    "        return batch\n",
    "\n",
    "    def update(self, idx, error):\n",
    "        p = self._getPriority(error)\n",
    "        self.tree.update(idx, p)"
   ]
  },
  {
   "cell_type": "code",
   "execution_count": 8,
   "metadata": {},
   "outputs": [],
   "source": [
    "from collections import deque\n",
    "import math\n",
    "\n",
    "MAX_EPSILON = 1\n",
    "MIN_EPSILON = 0.1\n",
    "LAMBDA = - math.log(0.01) / MIN_REPLAY_SIZE  # speed of decay\n",
    "\n",
    "class QLearningAgent():\n",
    "    def __init__(self, env, lr=LEARNING_RATE):\n",
    "        self.lr = lr\n",
    "        \n",
    "        self.memory = Memory(MEMORY_SIZE)\n",
    "        \n",
    "        self.loss_val = np.inf\n",
    "        self.action_size = NUM_ACTIONS\n",
    "        tf.compat.v1.disable_eager_execution()\n",
    "        self.discount_rate = 0.99\n",
    "        self.checkpoint_path = \"./my_dqn.ckpt\"\n",
    "\n",
    "        # Create the two networks for predicting the actions\n",
    "        # The first model makes the predictions for Q-values \n",
    "        # which are used to make a action.\n",
    "        self.online = self.q_network()\n",
    "        \n",
    "        # Build a target model for the prediction of future\n",
    "        # rewards. The weights of a target model get updated \n",
    "        # every 5000 steps thus when the loss between the \n",
    "        # Q-values is calculated the target Q-value is stable.\n",
    "        self.target = self.q_network()\n",
    "\n",
    "        #The \"target\" DNN will take the values of the \"online\" DNN\n",
    "        self.update_target()\n",
    "\n",
    "\n",
    "    def q_network(self, filters_1=32, filters_2=64, filters_3=64, units=256):\n",
    "        \"\"\"Define and return the CNN model architecture\n",
    "        \"\"\"\n",
    "        # Ensure reproducibility of the results\n",
    "        # by resetting the random seeds\n",
    "        reset_random_seeds()\n",
    "\n",
    "        # Build the model\n",
    "        kernel_init = HeUniform()\n",
    "        model = Sequential()\n",
    "        model.add(Conv2D(filters_1, kernel_size=8, padding=\"same\", strides=4, activation='relu', input_shape=INPUT_SHAPE, kernel_initializer=kernel_init))\n",
    "        model.add(Conv2D(filters_2, kernel_size=4, padding=\"same\", strides=2, activation='relu', kernel_initializer=kernel_init))\n",
    "        model.add(Conv2D(filters_3, kernel_size=3, padding=\"same\", strides=1, activation='relu', kernel_initializer=kernel_init))\n",
    "        model.add(Flatten())\n",
    "        model.add(Dense(512, activation='relu', kernel_initializer=kernel_init))\n",
    "        model.add(Dense(NUM_ACTIONS, activation=\"linear\", kernel_initializer=kernel_init))\n",
    "        \n",
    "        # In the Deepmind paper they use RMSProp however then Adam optimizer\n",
    "        # improves training time\n",
    "        model.compile(loss=\"huber_loss\", optimizer=Adam(learning_rate=self.lr))\n",
    "        return model\n",
    "            \n",
    "    def update_target(self):\n",
    "        \"\"\"Update the target network with the online network weights\n",
    "        \"\"\"\n",
    "        # Get the online DQN weights\n",
    "        online_weights = self.online.get_weights()\n",
    "        \n",
    "        # Update the target DQN weights\n",
    "        self.target.set_weights(online_weights)\n",
    "        \n",
    "    #---- CHOSSING ACTION ----\n",
    "    def get_action(self, state, step):\n",
    "        epsilon = MIN_EPSILON + (MAX_EPSILON - MIN_EPSILON) * math.exp(-LAMBDA * step)\n",
    "        if step <= MIN_REPLAY_SIZE or np.random.rand() < epsilon:\n",
    "            return np.random.randint(self.action_size) # random action\n",
    "        else:\n",
    "            q_values = self.online.predict(state.reshape(-1, *INPUT_SHAPE))\n",
    "            return np.argmax(q_values) # optimal action\n",
    "    \n",
    "    def get_train_data(self, batch):\n",
    "        \n",
    "        no_state = np.zeros(INPUT_SHAPE)\n",
    "        \n",
    "        prev_states = np.array([obs[1][0] for obs in batch])\n",
    "        \n",
    "        # No state if done = True\n",
    "        next_states = np.array([(no_state if obs[1][4] is True else obs[1][3]) for obs in batch])\n",
    "    \n",
    "        prev_q_vals = self.online.predict(prev_states)\n",
    "        next_q_vals = self.target.predict(next_states)\n",
    "        \n",
    "        X = np.zeros((len(batch), *INPUT_SHAPE))\n",
    "        Y = np.zeros((len(batch), NUM_ACTIONS))\n",
    "        errors = np.zeros(len(batch))\n",
    "        \n",
    "        for idx in range(len(batch)):\n",
    "            \n",
    "            # Unpack the current batch sample\n",
    "            curr_state, action, reward, next_state, done = batch[idx][1]\n",
    "            \n",
    "            q_val = prev_q_vals[idx]\n",
    "            prev_q_val = q_val[action]\n",
    "            \n",
    "            # Future q value\n",
    "            future_q_val = q_val\n",
    "            \n",
    "            if done:\n",
    "                future_q_val[action] = reward\n",
    "            else:\n",
    "                future_q_val[action] = reward + np.amax(next_q_vals[idx]) * self.discount_rate\n",
    "            \n",
    "            X[idx] = curr_state\n",
    "            Y[idx] = future_q_val\n",
    "            errors[idx] = abs(prev_q_val - future_q_val[action])\n",
    "        \n",
    "        return (X, Y, errors)\n",
    "    \n",
    "    def save_to_memory(self, curr_state, action, reward, next_state, done):\n",
    "        \n",
    "        sample = (curr_state, action, reward, next_state, done)\n",
    "        X, Y, errors = self.get_train_data([(0, sample)])\n",
    "        self.memory.add(errors[0], sample)\n",
    "        \n",
    "    def train(self, step):\n",
    "        \"\"\"Train the online model and update the loss value\n",
    "        \"\"\"\n",
    "        \n",
    "        batch = self.memory.sample(BATCH_SIZE)\n",
    "        X, Y, errors = self.get_train_data(batch)\n",
    "        \n",
    "        # Update errors\n",
    "        for i in range(len(batch)):\n",
    "            idx = batch[i][0]\n",
    "            self.memory.update(idx, errors[i])\n",
    "        \n",
    "        if step <= MIN_REPLAY_SIZE:\n",
    "            return\n",
    "        \n",
    "        hist = self.online.fit(X, Y, batch_size=BATCH_SIZE, epochs=1, verbose=0, shuffle=True)\n",
    "        self.loss_val = hist.history['loss'][0]\n",
    "    \n"
   ]
  },
  {
   "cell_type": "markdown",
   "metadata": {},
   "source": [
    "1.8. Train your network for $1,000,000$ training steps. Since the training process can take __a lot of time__, save your models every $1000$ training steps. You can choose to only train your model every $4$ frames instead of every frames."
   ]
  },
  {
   "cell_type": "code",
   "execution_count": null,
   "metadata": {},
   "outputs": [
    {
     "name": "stdout",
     "output_type": "stream",
     "text": [
      "Random number generator seed reset!\n",
      "Random number generator seed reset!\n",
      "\tAction step: 0/1000000 (0.00%)\tLoss:   inf\tAVG reward: 0\tTotal mean: nan\n"
     ]
    },
    {
     "name": "stderr",
     "output_type": "stream",
     "text": [
      "c:\\program files\\python38\\lib\\site-packages\\numpy\\core\\fromnumeric.py:3440: RuntimeWarning: Mean of empty slice.\n",
      "  return _methods._mean(a, axis=axis, dtype=dtype,\n",
      "c:\\program files\\python38\\lib\\site-packages\\numpy\\core\\_methods.py:189: RuntimeWarning: invalid value encountered in double_scalars\n",
      "  ret = ret.dtype.type(ret / rcount)\n",
      "c:\\program files\\python38\\lib\\site-packages\\keras\\engine\\training_v1.py:2079: UserWarning: `Model.state_updates` will be removed in a future version. This property should not be used in TensorFlow 2.0, as `updates` are applied automatically.\n",
      "  updates=self.state_updates,\n"
     ]
    },
    {
     "name": "stdout",
     "output_type": "stream",
     "text": [
      "\tAction step: 278/1000000 (0.03%)\tLoss:   inf\tAVG reward: 33\tTotal mean: 100.0\n",
      "\tAction step: 629/1000000 (0.06%)\tLoss:   inf\tAVG reward: 100\tTotal mean: 200.0\n",
      "\tAction step: 921/1000000 (0.09%)\tLoss:   inf\tAVG reward: 116\tTotal mean: 250.0\n",
      "\tAction step: 1513/1000000 (0.15%)\tLoss:   inf\tAVG reward: 200\tTotal mean: 337.5\n",
      "\tAction step: 1821/1000000 (0.18%)\tLoss:   inf\tAVG reward: 66\tTotal mean: 310.0\n",
      "\tAction step: 2427/1000000 (0.24%)\tLoss:   inf\tAVG reward: 283\tTotal mean: 400.0\n",
      "\tAction step: 2707/1000000 (0.27%)\tLoss:   inf\tAVG reward: 33\tTotal mean: 357.14285714285717\n",
      "\tAction step: 3154/1000000 (0.32%)\tLoss:   inf\tAVG reward: 100\tTotal mean: 350.0\n",
      "\tAction step: 3424/1000000 (0.34%)\tLoss:   inf\tAVG reward: 33\tTotal mean: 322.22222222222223\n",
      "\tAction step: 3774/1000000 (0.38%)\tLoss:   inf\tAVG reward: 116\tTotal mean: 325.0\n",
      "\tAction step: 4092/1000000 (0.41%)\tLoss:   inf\tAVG reward: 66\tTotal mean: 313.6363636363636\n",
      "\tAction step: 4600/1000000 (0.46%)\tLoss:   inf\tAVG reward: 150\tTotal mean: 325.0\n",
      "\tAction step: 4909/1000000 (0.49%)\tLoss:   inf\tAVG reward: 83\tTotal mean: 319.2307692307692\n",
      "\tAction step: 5245/1000000 (0.52%)\tLoss:   inf\tAVG reward: 83\tTotal mean: 314.2857142857143\n",
      "\tAction step: 5616/1000000 (0.56%)\tLoss:   inf\tAVG reward: 83\tTotal mean: 310.0\n",
      "\tAction step: 5869/1000000 (0.59%)\tLoss:   inf\tAVG reward: 50\tTotal mean: 300.0\n",
      "\tAction step: 6200/1000000 (0.62%)\tLoss:   inf\tAVG reward: 66\tTotal mean: 294.11764705882354\n",
      "\tAction step: 6682/1000000 (0.67%)\tLoss:   inf\tAVG reward: 150\tTotal mean: 302.77777777777777\n",
      "\tAction step: 6973/1000000 (0.70%)\tLoss:   inf\tAVG reward: 16\tTotal mean: 289.4736842105263\n",
      "\tAction step: 7281/1000000 (0.73%)\tLoss:   inf\tAVG reward: 50\tTotal mean: 282.5\n",
      "\tAction step: 7563/1000000 (0.76%)\tLoss:   inf\tAVG reward: 66\tTotal mean: 278.57142857142856\n",
      "\tAction step: 7858/1000000 (0.79%)\tLoss:   inf\tAVG reward: 66\tTotal mean: 275.0\n",
      "\tAction step: 8210/1000000 (0.82%)\tLoss:   inf\tAVG reward: 150\tTotal mean: 282.60869565217394\n",
      "\tAction step: 8480/1000000 (0.85%)\tLoss:   inf\tAVG reward: 33\tTotal mean: 275.0\n",
      "\tAction step: 8952/1000000 (0.90%)\tLoss:   inf\tAVG reward: 183\tTotal mean: 286.0\n",
      "\tAction step: 9292/1000000 (0.93%)\tLoss:   inf\tAVG reward: 50\tTotal mean: 280.7692307692308\n",
      "\tAction step: 9561/1000000 (0.96%)\tLoss:   inf\tAVG reward: 83\tTotal mean: 279.6296296296296\n",
      "\tAction step: 9885/1000000 (0.99%)\tLoss:   inf\tAVG reward: 66\tTotal mean: 276.7857142857143\n",
      "\tAction step: 10215/1000000 (1.02%)\tLoss:   inf\tAVG reward: 100\tTotal mean: 277.58620689655174\n",
      "\tAction step: 10727/1000000 (1.07%)\tLoss:   inf\tAVG reward: 183\tTotal mean: 286.6666666666667\n",
      "\tAction step: 11164/1000000 (1.12%)\tLoss:   inf\tAVG reward: 116\tTotal mean: 288.7096774193548\n",
      "\tAction step: 11457/1000000 (1.15%)\tLoss:   inf\tAVG reward: 83\tTotal mean: 287.5\n",
      "\tAction step: 11715/1000000 (1.17%)\tLoss:   inf\tAVG reward: 50\tTotal mean: 283.3333333333333\n",
      "\tAction step: 12002/1000000 (1.20%)\tLoss:   inf"
     ]
    }
   ],
   "source": [
    "import time\n",
    "agent = QLearningAgent(env)  \n",
    "ep_rewards = []\n",
    "total_reward = 0\n",
    "n_steps = 1000000  # total number of training steps\n",
    "save_steps = 50\n",
    "\n",
    "\n",
    "# Train the model after 4 actions\n",
    "train_online_steps = 4\n",
    "\n",
    "# Update teh target every 10,000 steps (1 epoch)\n",
    "# Considered as a hyperparameter\n",
    "update_target_steps = 10000\n",
    "\n",
    "done=True\n",
    "for step in range(n_steps):\n",
    "    total_perc = step * 100 / n_steps\n",
    "    print(f\"\\r\\tAction step: {step}/{n_steps} ({total_perc:.2f}%)\\tLoss: {agent.loss_val:5f}\", end=\"\")\n",
    "    if done: # game over, start again\n",
    "        avg_reward = int(total_reward/3)\n",
    "        if total_reward:\n",
    "            ep_rewards.append(total_reward)\n",
    "        print(f\"\\tAVG reward: {avg_reward}\\tTotal mean: {np.mean(ep_rewards)}\")\n",
    "        state = np.array(env.reset())\n",
    "        total_reward = 0\n",
    "#         state = preprocess_observation(obs)\n",
    "\n",
    "\n",
    "    # Get a exploration/exploitation action depending on the\n",
    "    # current epsilon value\n",
    "#     q_values = agent.online.predict(state)\n",
    "    action = agent.get_action(state, step)\n",
    "\n",
    "    # Online DQN plays\n",
    "    next_state, reward, done, info = env.step(action)\n",
    "\n",
    "    next_state = np.array(next_state)\n",
    "    \n",
    "#     next_state = preprocess_observation(next_obs)\n",
    "    agent.save_to_memory(state, action, reward, next_state, done)\n",
    "    \n",
    "    if step % train_online_steps == 0:\n",
    "        agent.train(step)\n",
    "\n",
    "    # Regularly copy the online DQN to the target DQN\n",
    "    if step % update_target_steps == 0:\n",
    "        agent.update_target()\n",
    "    \n",
    "    env.render()\n",
    "    total_reward += reward\n",
    "    state = next_state\n",
    "env.close()"
   ]
  },
  {
   "cell_type": "code",
   "execution_count": null,
   "metadata": {},
   "outputs": [],
   "source": [
    "print(ep_rewards)"
   ]
  },
  {
   "cell_type": "markdown",
   "metadata": {},
   "source": [
    "1.8. Print the evolution of the total number of rewards w.r.t. the episodes.\n",
    "\n",
    "1.9. Analyse the behaviour of the saved agents, can you notice any emerging strategies?\n",
    "\n",
    "https://www.youtube.com/watch?v=OxOqLQ8Ed_k"
   ]
  },
  {
   "cell_type": "code",
   "execution_count": null,
   "metadata": {},
   "outputs": [],
   "source": [
    "np.stack([1,2,3]).reshape(3,1)"
   ]
  },
  {
   "cell_type": "code",
   "execution_count": null,
   "metadata": {},
   "outputs": [],
   "source": [
    "import pandas as pd\n",
    "x = pd.DataFrame(data=ep_rewards)"
   ]
  },
  {
   "cell_type": "code",
   "execution_count": null,
   "metadata": {},
   "outputs": [],
   "source": [
    "\n",
    "\n",
    "plt.rcParams['figure.figsize']= (20,6)\n",
    "plt.plot(ep_rewards)\n",
    "plt.show()"
   ]
  },
  {
   "cell_type": "code",
   "execution_count": null,
   "metadata": {},
   "outputs": [],
   "source": [
    "x['sum'].plot()"
   ]
  },
  {
   "cell_type": "code",
   "execution_count": null,
   "metadata": {},
   "outputs": [],
   "source": [
    "x.to_csv('model_300.csv')"
   ]
  },
  {
   "cell_type": "code",
   "execution_count": null,
   "metadata": {},
   "outputs": [],
   "source": []
  }
 ],
 "metadata": {
  "kernelspec": {
   "display_name": "Python 3",
   "language": "python",
   "name": "python3"
  },
  "language_info": {
   "codemirror_mode": {
    "name": "ipython",
    "version": 3
   },
   "file_extension": ".py",
   "mimetype": "text/x-python",
   "name": "python",
   "nbconvert_exporter": "python",
   "pygments_lexer": "ipython3",
   "version": "3.8.7"
  }
 },
 "nbformat": 4,
 "nbformat_minor": 4
}
