{
 "cells": [
  {
   "cell_type": "markdown",
   "metadata": {},
   "source": [
    "# University of Aberdeen\n",
    "\n",
    "## Applied AI (CS5079)\n",
    "\n",
    "### Tutorial (Day 3) - Reinforcement Learning with OpenAI Gym\n",
    "\n",
    "---\n",
    "\n",
    "The practical is inspired from the code on: https://github.com/ageron/handson-ml/blob/master/16_reinforcement_learning.ipynb\n",
    "\n",
    "\n",
    "## Learning Outcomes\n",
    "\n",
    "On successful completion of this component a student will have demonstrated competence in creating and training an agent to play an Atari game using the screen frames as input\n",
    "\n",
    "### In this tutorial, we will use the following libraries and modules"
   ]
  },
  {
   "cell_type": "code",
   "execution_count": 2,
   "metadata": {},
   "outputs": [],
   "source": [
    "# For deep neural networks\n",
    "import tensorflow.compat.v1 as tf\n",
    "\n",
    "# For data representation\n",
    "import numpy as np\n",
    "import random\n",
    "\n",
    "# For handling files\n",
    "import os\n",
    "\n",
    "# For plotting graphs\n",
    "import matplotlib\n",
    "import matplotlib.pyplot as plt\n",
    "\n",
    "# OpenAI Gym\n",
    "import gym\n",
    "env = gym.make(\"Asterix-v0\")\n",
    "# I have installed pyglet-1.5.11 for it work with BigSur"
   ]
  },
  {
   "cell_type": "markdown",
   "metadata": {},
   "source": [
    "## Atari Games\n",
    "\n",
    "In this tutorial, we will create an agent to play the Boxing Atari game. In this game, two boxers, one white and one black, compete against each other. When close enough, a boxer can hit his opponent with a punch which causes his opponent to reel back slightly. A match is completed either when one player lands 100 punches or two minutes have elapsed. In the case of a decision, the player with the most landed punches is the winner. Ties are possible. \n",
    "\n",
    "![Activision's Boxing Cartridge](img/Boxing.png)\n",
    "\n",
    "In this tutorial, we will use the pixels as inputs. The OpenAI Gym environment is `Boxing-v0`. \n",
    "\n",
    "### Naive Agent\n",
    "1.1. For the boxing game, describe the observations, the action space, the reward, the environment’s info dictionary and the episode.\n"
   ]
  },
  {
   "cell_type": "code",
   "execution_count": 3,
   "metadata": {},
   "outputs": [
    {
     "name": "stdout",
     "output_type": "stream",
     "text": [
      "Observation space: Box(210, 160, 3)\n",
      "Action space: Discrete(9)\n"
     ]
    }
   ],
   "source": [
    "print(\"Observation space:\", env.observation_space)\n",
    "print(\"Action space:\", env.action_space)"
   ]
  },
  {
   "cell_type": "markdown",
   "metadata": {},
   "source": [
    "The observation space is an RGB picture of size 210x160 whereas the action space is composed of the 18 possible moves from an ATARI controller. The info dictionary contains `ale.lives()` which refers to the number of lives left (but here there is no finite number of lives)."
   ]
  },
  {
   "cell_type": "markdown",
   "metadata": {},
   "source": [
    "1.2. Create a simple agent that performs random actions."
   ]
  },
  {
   "cell_type": "code",
   "execution_count": 4,
   "metadata": {},
   "outputs": [
    {
     "name": "stdout",
     "output_type": "stream",
     "text": [
      "Average reward: 250.0\n"
     ]
    }
   ],
   "source": [
    "class RandomAgent():\n",
    "    def __init__(self, env):\n",
    "        self.action_size = env.action_space.n\n",
    "        \n",
    "    def get_action(self, observation):\n",
    "        return random.choice(range(self.action_size))\n",
    "    \n",
    "total_reward=0\n",
    "agent = RandomAgent(env)\n",
    "numberOfEpisodes = 10\n",
    "for steps in range(numberOfEpisodes):\n",
    "    current_obs = env.reset()\n",
    "    done = False\n",
    "    while not done:\n",
    "        action = agent.get_action(current_obs)\n",
    "        next_obs, reward, done, info = env.step(action)\n",
    "        total_reward += reward\n",
    "        env.render()\n",
    "print(\"Average reward: {}\".format(total_reward/numberOfEpisodes))"
   ]
  },
  {
   "cell_type": "markdown",
   "metadata": {},
   "source": [
    "### Deep Q-Learning Agent\n",
    "\n",
    "1.3. Implement a pre-processing function to convert the $210\\times160$ RGB frames to $96\\times80$ greyscale frames. Then, change the type of the matrix to `int8`.\n"
   ]
  },
  {
   "cell_type": "code",
   "execution_count": 5,
   "metadata": {},
   "outputs": [
    {
     "data": {
      "image/png": "[encoded data removed]",
      "text/plain": [
       "<Figure size 432x288 with 1 Axes>"
      ]
     },
     "metadata": {
      "needs_background": "light"
     },
     "output_type": "display_data"
    },
    {
     "data": {
      "image/png": "[encoded data removed]",
      "text/plain": [
       "<Figure size 432x288 with 1 Axes>"
      ]
     },
     "metadata": {
      "needs_background": "light"
     },
     "output_type": "display_data"
    }
   ],
   "source": [
    "obs = env.reset()\n",
    "\n",
    "def preprocess_observation(observation):\n",
    "    img = observation[1:192:2, ::2] #This becomes 96, 80,3\n",
    "    img = img.mean(axis=2) #to grayscale (values between 0 and 255)\n",
    "    img = (img - 128).astype(np.int8) # normalize from -128 to 127\n",
    "    return img.reshape(96, 80, 1)\n",
    "\n",
    "plt.imshow(obs)\n",
    "plt.show()\n",
    "plt.imshow(preprocess_observation(obs).reshape(96,80), cmap='gray', vmin=-128, vmax=127)\n",
    "plt.show()"
   ]
  },
  {
   "cell_type": "markdown",
   "metadata": {},
   "source": [
    "1.4. Create a function `q_network` that (1) takes as input a variable of shape $(96,80,1)$, (2) creates a deep convolutional network with 3 convolutional hidden layers and two dense layers, and (3) returns the output layer and the trainable variables in a dictionary where the keys are the name of the variables."
   ]
  },
  {
   "cell_type": "code",
   "execution_count": 6,
   "metadata": {},
   "outputs": [],
   "source": [
    "def q_network(X_state, name):\n",
    "    prev_layer = X_state / 128.0 # scale pixel intensities to the [-1.0, 1.0] range.\n",
    "    initializer = tf.variance_scaling_initializer()\n",
    "    with tf.variable_scope(name) as scope:\n",
    "        prev_layer = tf.layers.conv2d(prev_layer, filters=32, \n",
    "                                      kernel_size=8,strides=4,\n",
    "                                      padding=\"SAME\" ,\n",
    "                                      activation=tf.nn.relu,\n",
    "                                      kernel_initializer=initializer)\n",
    "        prev_layer = tf.layers.conv2d(prev_layer, filters=64,\n",
    "                                      kernel_size=4,strides=2,\n",
    "                                      padding=\"SAME\" ,\n",
    "                                      activation=tf.nn.relu,\n",
    "                                      kernel_initializer=initializer)\n",
    "        prev_layer = tf.layers.conv2d(prev_layer, filters=64,\n",
    "                                      kernel_size=3,strides=1,\n",
    "                                      padding=\"SAME\" , \n",
    "                                      activation=tf.nn.relu,\n",
    "                                      kernel_initializer=initializer)\n",
    "        last_conv_layer_flat = tf.reshape(prev_layer, shape=[-1,64 * 12 * 10])\n",
    "        hidden = tf.layers.dense(last_conv_layer_flat,512,\n",
    "                                 activation=tf.nn.relu,\n",
    "                                 kernel_initializer=initializer)\n",
    "        outputs = tf.layers.dense(hidden, env.action_space.n,kernel_initializer=initializer)\n",
    "    trainable_vars = tf.get_collection(tf.GraphKeys.TRAINABLE_VARIABLES, scope=scope.name)\n",
    "    trainable_vars_by_name = {var.name[len(scope.name):]: var for var in trainable_vars}\n",
    "    return outputs, trainable_vars_by_name"
   ]
  },
  {
   "cell_type": "markdown",
   "metadata": {},
   "source": [
    "1.5. Create an agent `QLearningAgent` with two deep convolutional networks (`online` and `target`) to predict the action to be taken from the game's frames. The `online` network will be trained and replace the `target`network every $5000$ training steps.\n",
    "\n",
    "\n",
    "1.6. Create a method `get_action` using a parameter $\\epsilon$ for making random moves. This parameter will decrease from $1$ to $0.1$.\n",
    "\n",
    "1.7. Create a method `train` to update the weights of the `online` network using the Q-values of the `target` network. We will use a discount rate of $0.99$. "
   ]
  },
  {
   "cell_type": "code",
   "execution_count": null,
   "metadata": {},
   "outputs": [],
   "source": [
    "class QLearningAgent():\n",
    "    def __init__(self, env, learning_rate = 0.001, momentum = 0.95):\n",
    "        self.loss_val = np.infty\n",
    "        self.action_size = env.action_space.n\n",
    "        tf.reset_default_graph()\n",
    "        tf.disable_eager_execution()\n",
    "        self.discount_rate = 0.99\n",
    "        self.checkpoint_path = \"./my_dqn.ckpt\"\n",
    "        self.X_state = tf.placeholder(tf.float32, shape=[None, 96, 80,1])\n",
    "        self.online_q_values, self.online_vars = q_network(self.X_state, name=\"q_networks/online\")\n",
    "        self.target_q_values, self.target_vars = q_network(self.X_state, name=\"q_networks/target\")\n",
    "\n",
    "        #The \"target\" DNN will take the values of the \"online\" DNN\n",
    "        self.copy_ops = [target_var.assign(self.online_vars[var_name]) for var_name, target_var in self.target_vars.items()]\n",
    "        self.copy_online_to_target = tf.group(*self.copy_ops)\n",
    "\n",
    "        #We create the model for training\n",
    "        with tf.variable_scope(\"train\"):\n",
    "            self.X_action = tf.placeholder(tf.int32, shape=[None])\n",
    "            self.y = tf.placeholder(tf.float32, shape=[None, 1])\n",
    "            self.q_value = tf.reduce_sum(self.online_q_values * tf.one_hot(self.X_action, self.action_size),axis=1, keepdims=True)\n",
    "            \n",
    "            #If the error is between 0 and 1, \n",
    "            self.error = tf.abs(self.y - self.q_value)\n",
    "            self.clipped_error = tf.clip_by_value(self.error, 0.0, 1.0)\n",
    "            self.linear_error = 2 * (self.error - self.clipped_error)\n",
    "            self.loss = tf.reduce_mean(tf.square(self.clipped_error) + self.linear_error)\n",
    "            \n",
    "            \n",
    "            \n",
    "            self.global_step = tf.Variable(0, trainable=False, name='global_step')\n",
    "            self.optimizer = tf.train.MomentumOptimizer(learning_rate, momentum, use_nesterov=True)\n",
    "            self.training_op = self.optimizer.minimize(self.loss, global_step=self.global_step)\n",
    "\n",
    "        # Saving the session\n",
    "        self.saver = tf.train.Saver()\n",
    "        self.sess = tf.Session()\n",
    "        if os.path.isfile(self.checkpoint_path + \".index\"):\n",
    "            self.saver.restore(self.sess, self.checkpoint_path)\n",
    "        else:\n",
    "            self.sess.run(tf.global_variables_initializer())\n",
    "            self.sess.run(self.copy_online_to_target)\n",
    "        \n",
    "    #---- CHOSSING ACTION ----\n",
    "    def get_action(self,q_values, step):\n",
    "        epsilon = max(0.1, 1 - (0.9/2000000) * step)\n",
    "        if np.random.rand() < epsilon:\n",
    "            return np.random.randint(self.action_size) # random action\n",
    "        else:\n",
    "            return np.argmax(q_values) # optimal action\n",
    "\n",
    "    #---- TRAINING ----\n",
    "    def train(self, state_val, action_val, reward, next_state_val, continues):\n",
    "        # Compute next_qvalues  \n",
    "        next_q_values = self.target_q_values.eval(feed_dict={self.X_state: np.array([next_state_val])})\n",
    "        # Compute best rewards\n",
    "        max_next_q_values = np.max(next_q_values, axis=1, keepdims=True)\n",
    "        # Compute target values\n",
    "        y_val = reward + continues * self.discount_rate * max_next_q_values\n",
    "        # Train the online DQN\n",
    "        _, self.loss_val = self.sess.run([self.training_op, self.loss], feed_dict={self.X_state: np.array([state_val]), self.X_action: np.array([action_val]), self.y: y_val})"
   ]
  },
  {
   "cell_type": "markdown",
   "metadata": {},
   "source": [
    "1.8. Train your network for $1,000,000$ training steps. Since the training process can take __a lot of time__, save your models every $1000$ training steps. You can choose to only train your model every $4$ frames instead of every frames."
   ]
  },
  {
   "cell_type": "code",
   "execution_count": null,
   "metadata": {},
   "outputs": [],
   "source": [
    "agent = QLearningAgent(env)  \n",
    "ep_rewards = []\n",
    "total_reward = 0\n",
    "n_steps = 1000000  # total number of training steps\n",
    "copy_steps = 5000\n",
    "save_steps = 1000 \n",
    "\n",
    "with agent.sess:\n",
    "    while True:\n",
    "        step = agent.global_step.eval()\n",
    "        if step >= n_steps:\n",
    "            break\n",
    "\n",
    "        print(\"\\r\\tTraining step {}/{} ({:.1f})%\\tLoss {:5f}\".format(\n",
    "            step,\n",
    "            n_steps,\n",
    "            step * 100 / n_steps, \n",
    "            agent.loss_val), end=\"\")\n",
    "\n",
    "        if done: # game over, start again\n",
    "            obs = env.reset()\n",
    "            ep_rewards.append(total_reward)\n",
    "            total_reward = 0\n",
    "            state = preprocess_observation(obs)\n",
    "\n",
    "        total_perc = int(step * 100 / n_steps)\n",
    "        \n",
    "        # Online DQN evaluates what to do\n",
    "        q_values = agent.online_q_values.eval(feed_dict={agent.X_state: [state]})\n",
    "        action = agent.get_action(q_values, step)\n",
    "        \n",
    "        # Online DQN plays\n",
    "        next_obs, reward, done, info = env.step(action)\n",
    "        next_state = preprocess_observation(next_obs)\n",
    "        agent.train(state, action, reward, next_state, 1.0 - done)\n",
    "        \n",
    "        env.render()\n",
    "        total_reward+=reward\n",
    "        state = next_state\n",
    "\n",
    "        # Regularly copy the online DQN to the target DQN\n",
    "        if step % copy_steps == 0:\n",
    "            agent.copy_online_to_target.run()\n",
    "\n",
    "        # And save regularly\n",
    "        if step % save_steps == 0:\n",
    "            agent.saver.save(agent.sess, agent.checkpoint_path)\n"
   ]
  },
  {
   "cell_type": "markdown",
   "metadata": {},
   "source": [
    "1.8. Print the evolution of the total number of rewards w.r.t. the episodes.\n",
    "\n",
    "1.9. Analyse the behaviour of the saved agents, can you notice any emerging strategies?\n",
    "\n",
    "https://www.youtube.com/watch?v=OxOqLQ8Ed_k"
   ]
  },
  {
   "cell_type": "code",
   "execution_count": null,
   "metadata": {},
   "outputs": [],
   "source": []
  }
 ],
 "metadata": {
  "kernelspec": {
   "display_name": "Python 3 (ipykernel)",
   "language": "python",
   "name": "python3"
  },
  "language_info": {
   "codemirror_mode": {
    "name": "ipython",
    "version": 3
   },
   "file_extension": ".py",
   "mimetype": "text/x-python",
   "name": "python",
   "nbconvert_exporter": "python",
   "pygments_lexer": "ipython3",
   "version": "3.8.8"
  }
 },
 "nbformat": 4,
 "nbformat_minor": 4
}
