{
 "cells": [
  {
   "cell_type": "markdown",
   "metadata": {},
   "source": [
    "# University of Aberdeen\n",
    "\n",
    "## Applied AI (CS5079)\n",
    "\n",
    "### Tutorial (Day 3) - Reinforcement Learning with OpenAI Gym\n",
    "\n",
    "---\n",
    "\n",
    "The practical is inspired from the code on: https://github.com/ageron/handson-ml/blob/master/16_reinforcement_learning.ipynb\n",
    "\n",
    "\n",
    "## Learning Outcomes\n",
    "\n",
    "On successful completion of this component a student will have demonstrated competence in creating and training an agent to play an Atari game using the screen frames as input\n",
    "\n",
    "### In this tutorial, we will use the following libraries and modules"
   ]
  },
  {
   "cell_type": "code",
   "execution_count": 2,
   "metadata": {},
   "outputs": [
    {
     "name": "stderr",
     "output_type": "stream",
     "text": [
      "c:\\program files\\python38\\lib\\site-packages\\numpy\\_distributor_init.py:30: UserWarning: loaded more than 1 DLL from .libs:\n",
      "c:\\program files\\python38\\lib\\site-packages\\numpy\\.libs\\libopenblas.WCDJNK7YVMPZQ2ME2ZZHJJRJ3JIKNDB7.gfortran-win_amd64.dll\n",
      "c:\\program files\\python38\\lib\\site-packages\\numpy\\.libs\\libopenblas.XWYDX2IKJW2NMTWSFYNGFUWKQU3LYTCZ.gfortran-win_amd64.dll\n",
      "  warnings.warn(\"loaded more than 1 DLL from .libs:\"\n"
     ]
    },
    {
     "data": {
      "text/plain": [
       "[1337, 17452119]"
      ]
     },
     "execution_count": 2,
     "metadata": {},
     "output_type": "execute_result"
    }
   ],
   "source": [
    "# For deep neural networks\n",
    "import tensorflow as tf\n",
    "\n",
    "# For data representation\n",
    "import numpy as np\n",
    "import random\n",
    "\n",
    "# For handling files\n",
    "import os\n",
    "\n",
    "# For plotting graphs\n",
    "import matplotlib\n",
    "import matplotlib.pyplot as plt\n",
    "%matplotlib inline\n",
    "\n",
    "# OpenAI Gym\n",
    "import gym\n",
    "env = gym.make(\"Asterix-v0\")\n",
    "env.seed(1337)\n",
    "# I have installed pyglet-1.5.11 for it work with BigSur"
   ]
  },
  {
   "cell_type": "markdown",
   "metadata": {},
   "source": [
    "## Atari Games\n",
    "\n",
    "In this tutorial, we will create an agent to play the Boxing Atari game. In this game, two boxers, one white and one black, compete against each other. When close enough, a boxer can hit his opponent with a punch which causes his opponent to reel back slightly. A match is completed either when one player lands 100 punches or two minutes have elapsed. In the case of a decision, the player with the most landed punches is the winner. Ties are possible. \n",
    "\n",
    "![Activision's Boxing Cartridge](img/Boxing.png)\n",
    "\n",
    "In this tutorial, we will use the pixels as inputs. The OpenAI Gym environment is `Boxing-v0`. \n",
    "\n",
    "### Naive Agent\n",
    "1.1. For the boxing game, describe the observations, the action space, the reward, the environment’s info dictionary and the episode.\n"
   ]
  },
  {
   "cell_type": "code",
   "execution_count": 3,
   "metadata": {},
   "outputs": [
    {
     "name": "stdout",
     "output_type": "stream",
     "text": [
      "Observation space: Box(210, 160, 3)\n",
      "Action space: Discrete(9)\n",
      "Possible actions: ['NOOP', 'UP', 'RIGHT', 'LEFT', 'DOWN', 'UPRIGHT', 'UPLEFT', 'DOWNRIGHT', 'DOWNLEFT']\n"
     ]
    }
   ],
   "source": [
    "print(\"Observation space:\", env.observation_space)\n",
    "print(\"Action space:\", env.action_space)\n",
    "print(\"Possible actions:\", env.unwrapped.get_action_meanings())"
   ]
  },
  {
   "cell_type": "markdown",
   "metadata": {},
   "source": [
    "The observation space is an RGB picture of size 210x160 whereas the action space is composed of the 18 possible moves from an ATARI controller. The info dictionary contains `ale.lives()` which refers to the number of lives left (but here there is no finite number of lives)."
   ]
  },
  {
   "cell_type": "markdown",
   "metadata": {},
   "source": [
    "1.2. Create a simple agent that performs random actions."
   ]
  },
  {
   "cell_type": "code",
   "execution_count": 4,
   "metadata": {},
   "outputs": [
    {
     "name": "stdout",
     "output_type": "stream",
     "text": [
      "Average reward: 0.0\n"
     ]
    }
   ],
   "source": [
    "class RandomAgent():\n",
    "    def __init__(self, env):\n",
    "        self.action_size = env.action_space.n\n",
    "        \n",
    "    def get_action(self, observation):\n",
    "        return random.choice(range(self.action_size))\n",
    "    \n",
    "total_reward=0\n",
    "agent = RandomAgent(env)\n",
    "numberOfEpisodes = 10\n",
    "# for steps in range(numberOfEpisodes):\n",
    "#     current_obs = env.reset()\n",
    "#     done = False\n",
    "#     while not done:\n",
    "#         action = agent.get_action(current_obs)\n",
    "#         next_obs, reward, done, info = env.step(action)\n",
    "#         total_reward += reward\n",
    "#         env.render()\n",
    "print(\"Average reward: {}\".format(total_reward/numberOfEpisodes))"
   ]
  },
  {
   "cell_type": "markdown",
   "metadata": {},
   "source": [
    "### Deep Q-Learning Agent\n",
    "\n",
    "1.3. Implement a pre-processing function to convert the $210\\times160$ RGB frames to $96\\times80$ greyscale frames. Then, change the type of the matrix to `int8`.\n"
   ]
  },
  {
   "cell_type": "code",
   "execution_count": 74,
   "metadata": {},
   "outputs": [
    {
     "data": {
      "image/png": "[encoded data removed]",
      "text/plain": [
       "<Figure size 432x288 with 1 Axes>"
      ]
     },
     "metadata": {
      "needs_background": "light"
     },
     "output_type": "display_data"
    },
    {
     "name": "stdout",
     "output_type": "stream",
     "text": [
      "float32\n"
     ]
    },
    {
     "data": {
      "image/png": "[encoded data removed]",
      "text/plain": [
       "<Figure size 432x288 with 1 Axes>"
      ]
     },
     "metadata": {
      "needs_background": "light"
     },
     "output_type": "display_data"
    }
   ],
   "source": [
    "obs = env.reset()\n",
    "from skimage.color import rgb2gray\n",
    "\n",
    "def preprocess_observation(observation):\n",
    "    img = observation[23:153:2, ::2] # This becomes 90, 80, 3\n",
    "#     print(img.shape)\n",
    "#     print(img.shape)\n",
    "#     img = img.mean(axis=2) #to grayscale (values between 0 and 255)\n",
    "    img = rgb2gray(img)\n",
    "    img = img.astype(np.float32) # normalize from -128 to 127\n",
    "    return img.reshape(65, 80)\n",
    "\n",
    "plt.imshow(obs)\n",
    "plt.show()\n",
    "print(preprocess_observation(obs)[0].dtype)\n",
    "plt.imshow(preprocess_observation(obs).reshape(65,80), cmap='gray')\n",
    "plt.show()"
   ]
  },
  {
   "cell_type": "markdown",
   "metadata": {},
   "source": [
    "1.4. Create a function `q_network` that (1) takes as input a variable of shape $(96,80,1)$, (2) creates a deep convolutional network with 3 convolutional hidden layers and two dense layers, and (3) returns the output layer and the trainable variables in a dictionary where the keys are the name of the variables."
   ]
  },
  {
   "cell_type": "code",
   "execution_count": 117,
   "metadata": {},
   "outputs": [],
   "source": [
    "# Import the Keras layer used for building our models\n",
    "from tensorflow.keras import Sequential\n",
    "from tensorflow.keras.layers import Dense, Flatten, Conv2D,\\\n",
    "MaxPool2D, Dropout, BatchNormalization\n",
    "from tensorflow.keras.optimizers import Adam\n",
    "from tensorflow.keras.initializers import HeUniform\n",
    "\n",
    "INPUT_SHAPE = (65, 80, 4)\n",
    "NUM_ACTIONS = env.action_space.n\n",
    "BATCH_SIZE = 32\n",
    "FRAME_STACK_SIZE = 4\n",
    "MEMORY_SIZE = 25000\n",
    "MIN_REPLAY_SIZE = 20000\n",
    "LEARNING_RATE = 0.0001"
   ]
  },
  {
   "cell_type": "markdown",
   "metadata": {},
   "source": [
    "1.5. Create an agent `QLearningAgent` with two deep convolutional networks (`online` and `target`) to predict the action to be taken from the game's frames. The `online` network will be trained and replace the `target`network every $5000$ training steps.\n",
    "\n",
    "\n",
    "1.6. Create a method `get_action` using a parameter $\\epsilon$ for making random moves. This parameter will decrease from $1$ to $0.1$.\n",
    "\n",
    "1.7. Create a method `train` to update the weights of the `online` network using the Q-values of the `target` network. We will use a discount rate of $0.99$. "
   ]
  },
  {
   "cell_type": "code",
   "execution_count": 120,
   "metadata": {},
   "outputs": [],
   "source": [
    "from collections import deque\n",
    "\n",
    "class QLearningAgent():\n",
    "    def __init__(self, env, lr=LEARNING_RATE):\n",
    "        self.learning_rate = lr\n",
    "        self.memory = deque(maxlen=MEMORY_SIZE)\n",
    "        self.loss_val = np.inf\n",
    "        self.action_size = NUM_ACTIONS\n",
    "        tf.compat.v1.disable_eager_execution()\n",
    "        self.discount_rate = 0.99\n",
    "        self.checkpoint_path = \"./my_dqn.ckpt\"\n",
    "\n",
    "        # Create the two networks for predicting the actions\n",
    "        # The first model makes the predictions for Q-values \n",
    "        # which are used to make a action.\n",
    "        self.online = self.q_network()\n",
    "        \n",
    "        # Build a target model for the prediction of future\n",
    "        # rewards. The weights of a target model get updated \n",
    "        # every 5000 steps thus when the loss between the \n",
    "        # Q-values is calculated the target Q-value is stable.\n",
    "        self.target = self.q_network()\n",
    "\n",
    "        #The \"target\" DNN will take the values of the \"online\" DNN\n",
    "        self.update_target()\n",
    "\n",
    "        # Saving the session\n",
    "#         self.saver = tf.compat.v1.train.Saver()\n",
    "#         self.sess = tf.compat.v1.Session()\n",
    "#         if os.path.isfile(self.checkpoint_path + \".index\"):\n",
    "#             self.saver.restore(self.sess, self.checkpoint_path)\n",
    "#         else:\n",
    "# #             self.sess.run(tf.global_variables_initializer())\n",
    "#             self.update_target()\n",
    "# #             self.sess.run(self.copy_online_to_target)\n",
    "\n",
    "    def q_network(self, filters_1=32, filters_2=64, filters_3=64, units=256):\n",
    "        \"\"\"Define and return the CNN model architecture\n",
    "        \"\"\"\n",
    "        # Ensure reproducibility of the results\n",
    "        # by resetting the random seeds\n",
    "        # reset_random_seeds()\n",
    "\n",
    "        # Build the model\n",
    "        kernel_init = HeUniform()\n",
    "        model = Sequential()\n",
    "        model.add(Conv2D(32, kernel_size=8, padding=\"same\", strides=4, activation='relu', input_shape=INPUT_SHAPE, kernel_initializer=kernel_init))\n",
    "        model.add(Conv2D(64, kernel_size=4, padding=\"same\", strides=2, activation='relu', kernel_initializer=kernel_init))\n",
    "        model.add(Conv2D(64, kernel_size=3, padding=\"same\", strides=1, activation='relu', kernel_initializer=kernel_init))\n",
    "        model.add(Flatten())\n",
    "        model.add(Dense(512, activation='relu', kernel_initializer=kernel_init))\n",
    "        model.add(Dense(NUM_ACTIONS, activation=\"linear\", kernel_initializer=kernel_init))\n",
    "        model.compile(loss=\"huber_loss\", optimizer=Adam(learning_rate=0.001))\n",
    "        return model\n",
    "            \n",
    "    def update_target(self):\n",
    "        \"\"\"Update the target network with the online network weights\n",
    "        \"\"\"\n",
    "        # Get the online DQN weights\n",
    "        online_weights = self.online.get_weights()\n",
    "        \n",
    "        # Update the target DQN weights\n",
    "        self.target.set_weights(online_weights)\n",
    "        \n",
    "    #---- CHOSSING ACTION ----\n",
    "    def get_action(self, state, step):\n",
    "        epsilon = max(0.1, 1 - (0.9/2000000) * step)\n",
    "        if step <= MIN_REPLAY_SIZE or np.random.rand() < epsilon:\n",
    "            return np.random.randint(self.action_size) # random action\n",
    "        else:\n",
    "            q_values = self.online.predict(np.stack(self.stack_frames(step-1).reshape(-1, *INPUT_SHAPE)))\n",
    "            return np.argmax(q_values) # optimal action\n",
    "    \n",
    "    def train(self):\n",
    "        \"\"\"Train the online model and update the loss value\n",
    "        \"\"\"\n",
    "        if len(self.memory) < BATCH_SIZE + FRAME_STACK_SIZE:\n",
    "            return\n",
    "        \n",
    "        sample_indexes = random.sample(range(FRAME_STACK_SIZE - 1, len(self.memory) - 1), BATCH_SIZE)\n",
    "        \n",
    "        curr_states = np.stack([self.stack_frames(idx) for idx in sample_indexes])\n",
    "        states_q_vals = self.online.predict(curr_states)\n",
    "        \n",
    "        next_states = np.stack([self.stack_frames(idx, 3) for idx in sample_indexes])\n",
    "        targets_q_vals = self.target.predict(next_states)\n",
    "\n",
    "        X, Y = [], []\n",
    "        \n",
    "        for idx, memory_index in enumerate(sample_indexes):\n",
    "            curr_state, action, reward, next_state, done = self.memory[memory_index]\n",
    "            if done:\n",
    "                future_q_val = reward\n",
    "            else:\n",
    "                future_q_val = reward + np.amax(targets_q_vals[idx]) * self.discount_rate\n",
    "            \n",
    "            # Get the current Q value\n",
    "            curr_q_val = states_q_vals[idx]\n",
    "            curr_q_val[action] = future_q_val\n",
    "#             curr_q_val[action] = (1 - learning_rate) * curr_q_val[action] + learning_rate * future_q_val\n",
    "            Y.append(curr_q_val)\n",
    "            \n",
    "        hist = self.online.fit(curr_states, np.array(Y), batch_size=BATCH_SIZE, epochs=1, verbose=0, shuffle=True)\n",
    "        self.loss_val = hist.history['loss'][0]\n",
    "    \n",
    "    def stack_frames(self, end_idx, sample_index=0):\n",
    "        start_idx = end_idx - FRAME_STACK_SIZE + 1\n",
    "        stack = []\n",
    "        for idx in range(start_idx, end_idx + 1):\n",
    "            stack.append(self.memory[idx % MEMORY_SIZE][sample_index])\n",
    "        return np.stack(stack, axis=-1)\n",
    "    \n",
    "    def save_to_memory(self, curr_state, action, reward, next_state, done):\n",
    "        self.memory.append([curr_state, action, reward, next_state, done])\n",
    "    \n",
    "    def get_current_frame_stack(self):\n",
    "        return np.expand_dims(self._stack_frame(self.current_idx), axis=0)"
   ]
  },
  {
   "cell_type": "markdown",
   "metadata": {},
   "source": [
    "1.8. Train your network for $1,000,000$ training steps. Since the training process can take __a lot of time__, save your models every $1000$ training steps. You can choose to only train your model every $4$ frames instead of every frames."
   ]
  },
  {
   "cell_type": "code",
   "execution_count": null,
   "metadata": {},
   "outputs": [
    {
     "name": "stdout",
     "output_type": "stream",
     "text": [
      "\tAction step: 0/1000000 (0.00%)\tLoss:   inf\tAVG reward: 0\tTotal mean: nan\n",
      "\tAction step: 406/1000000 (0.04%)\tLoss:   inf\tAVG reward: 166\tTotal mean: 500.0\n",
      "\tAction step: 817/1000000 (0.08%)\tLoss:   inf\tAVG reward: 116\tTotal mean: 425.0\n",
      "\tAction step: 1100/1000000 (0.11%)\tLoss:   inf\tAVG reward: 16\tTotal mean: 300.0\n",
      "\tAction step: 1358/1000000 (0.14%)\tLoss:   inf\tAVG reward: 50\tTotal mean: 262.5\n",
      "\tAction step: 1616/1000000 (0.16%)\tLoss:   inf\tAVG reward: 50\tTotal mean: 240.0\n",
      "\tAction step: 1986/1000000 (0.20%)\tLoss:   inf\tAVG reward: 100\tTotal mean: 250.0\n",
      "\tAction step: 2573/1000000 (0.26%)\tLoss:   inf\tAVG reward: 166\tTotal mean: 285.7142857142857\n",
      "\tAction step: 3046/1000000 (0.30%)\tLoss:   inf\tAVG reward: 216\tTotal mean: 331.25\n",
      "\tAction step: 3340/1000000 (0.33%)\tLoss:   inf\tAVG reward: 33\tTotal mean: 305.55555555555554\n",
      "\tAction step: 3678/1000000 (0.37%)\tLoss:   inf\tAVG reward: 83\tTotal mean: 300.0\n",
      "\tAction step: 4001/1000000 (0.40%)\tLoss:   inf\tAVG reward: 66\tTotal mean: 290.90909090909093\n",
      "\tAction step: 4456/1000000 (0.45%)\tLoss:   inf\tAVG reward: 116\tTotal mean: 295.8333333333333\n",
      "\tAction step: 4724/1000000 (0.47%)\tLoss:   inf\tAVG reward: 33\tTotal mean: 280.7692307692308\n",
      "\tAction step: 5092/1000000 (0.51%)\tLoss:   inf\tAVG reward: 83\tTotal mean: 278.57142857142856\n",
      "\tAction step: 5424/1000000 (0.54%)\tLoss:   inf\tAVG reward: 116\tTotal mean: 283.3333333333333\n",
      "\tAction step: 5699/1000000 (0.57%)\tLoss:   inf\tAVG reward: 50\tTotal mean: 275.0\n",
      "\tAction step: 5982/1000000 (0.60%)\tLoss:   inf\tAVG reward: 50\tTotal mean: 267.6470588235294\n",
      "\tAction step: 6435/1000000 (0.64%)\tLoss:   inf\tAVG reward: 166\tTotal mean: 280.55555555555554\n",
      "\tAction step: 6744/1000000 (0.67%)\tLoss:   inf\tAVG reward: 66\tTotal mean: 276.3157894736842\n",
      "\tAction step: 7077/1000000 (0.71%)\tLoss:   inf\tAVG reward: 83\tTotal mean: 275.0\n",
      "\tAction step: 7713/1000000 (0.77%)\tLoss:   inf\tAVG reward: 283\tTotal mean: 302.3809523809524\n",
      "\tAction step: 8262/1000000 (0.83%)\tLoss:   inf\tAVG reward: 183\tTotal mean: 313.6363636363636\n",
      "\tAction step: 8680/1000000 (0.87%)\tLoss:   inf\tAVG reward: 183\tTotal mean: 323.9130434782609\n",
      "\tAction step: 8997/1000000 (0.90%)\tLoss:   inf\tAVG reward: 50\tTotal mean: 316.6666666666667\n",
      "\tAction step: 9525/1000000 (0.95%)\tLoss:   inf\tAVG reward: 133\tTotal mean: 320.0\n",
      "\tAction step: 9851/1000000 (0.99%)\tLoss:   inf\tAVG reward: 50\tTotal mean: 313.46153846153845\n",
      "\tAction step: 10136/1000000 (1.01%)\tLoss:   inf\tAVG reward: 33\tTotal mean: 305.55555555555554\n",
      "\tAction step: 10446/1000000 (1.04%)\tLoss:   inf\tAVG reward: 100\tTotal mean: 305.35714285714283\n",
      "\tAction step: 10776/1000000 (1.08%)\tLoss:   inf\tAVG reward: 66\tTotal mean: 301.7241379310345\n",
      "\tAction step: 11448/1000000 (1.14%)\tLoss:   inf\tAVG reward: 283\tTotal mean: 320.0\n",
      "\tAction step: 11768/1000000 (1.18%)\tLoss:   inf\tAVG reward: 50\tTotal mean: 314.51612903225805\n",
      "\tAction step: 12043/1000000 (1.20%)\tLoss:   inf\tAVG reward: 33\tTotal mean: 307.8125\n",
      "\tAction step: 12316/1000000 (1.23%)\tLoss:   inf\tAVG reward: 50\tTotal mean: 303.030303030303\n",
      "\tAction step: 12671/1000000 (1.27%)\tLoss:   inf\tAVG reward: 66\tTotal mean: 300.0\n",
      "\tAction step: 13262/1000000 (1.33%)\tLoss:   inf\tAVG reward: 200\tTotal mean: 308.57142857142856\n",
      "\tAction step: 13603/1000000 (1.36%)\tLoss:   inf\tAVG reward: 66\tTotal mean: 305.55555555555554\n",
      "\tAction step: 14002/1000000 (1.40%)\tLoss:   inf\tAVG reward: 133\tTotal mean: 308.1081081081081\n",
      "\tAction step: 14343/1000000 (1.43%)\tLoss:   inf\tAVG reward: 66\tTotal mean: 305.2631578947368\n",
      "\tAction step: 14829/1000000 (1.48%)\tLoss:   inf\tAVG reward: 150\tTotal mean: 308.97435897435895\n",
      "\tAction step: 15131/1000000 (1.51%)\tLoss:   inf\tAVG reward: 33\tTotal mean: 303.75\n",
      "\tAction step: 15420/1000000 (1.54%)\tLoss:   inf\tAVG reward: 66\tTotal mean: 301.219512195122\n",
      "\tAction step: 15754/1000000 (1.58%)\tLoss:   inf\tAVG reward: 83\tTotal mean: 300.0\n",
      "\tAction step: 16181/1000000 (1.62%)\tLoss:   inf\tAVG reward: 166\tTotal mean: 304.6511627906977\n",
      "\tAction step: 16744/1000000 (1.67%)\tLoss:   inf\tAVG reward: 216\tTotal mean: 312.5\n",
      "\tAction step: 17009/1000000 (1.70%)\tLoss:   inf\tAVG reward: 50\tTotal mean: 308.8888888888889\n",
      "\tAction step: 17478/1000000 (1.75%)\tLoss:   inf\tAVG reward: 133\tTotal mean: 310.8695652173913\n",
      "\tAction step: 18122/1000000 (1.81%)\tLoss:   inf\tAVG reward: 266\tTotal mean: 321.27659574468083\n",
      "\tAction step: 18548/1000000 (1.85%)\tLoss:   inf\tAVG reward: 150\tTotal mean: 323.9583333333333\n",
      "\tAction step: 18920/1000000 (1.89%)\tLoss:   inf\tAVG reward: 150\tTotal mean: 326.53061224489795\n",
      "\tAction step: 19242/1000000 (1.92%)\tLoss:   inf\tAVG reward: 50\tTotal mean: 323.0\n",
      "\tAction step: 19666/1000000 (1.97%)\tLoss:   inf\tAVG reward: 100\tTotal mean: 322.54901960784315\n",
      "\tAction step: 20004/1000000 (2.00%)\tLoss:   inf"
     ]
    },
    {
     "name": "stderr",
     "output_type": "stream",
     "text": [
      "c:\\program files\\python38\\lib\\site-packages\\keras\\engine\\training_v1.py:2079: UserWarning: `Model.state_updates` will be removed in a future version. This property should not be used in TensorFlow 2.0, as `updates` are applied automatically.\n",
      "  updates=self.state_updates,\n"
     ]
    },
    {
     "name": "stdout",
     "output_type": "stream",
     "text": [
      "\tAction step: 20019/1000000 (2.00%)\tLoss: 0.346586\tAVG reward: 83\tTotal mean: 321.15384615384613\n",
      "\tAction step: 20268/1000000 (2.03%)\tLoss: 0.00016620268\n",
      "\tAction step: 20323/1000000 (2.03%)\tLoss: 0.17151520323\n",
      "\tAction step: 20405/1000000 (2.04%)\tLoss: 0.34401820405\n",
      "\tAction step: 20431/1000000 (2.04%)\tLoss: 0.172044\tAVG reward: 133\tTotal mean: 322.64150943396226\n",
      "\tAction step: 20468/1000000 (2.05%)\tLoss: 0.00010620468\n",
      "\tAction step: 20532/1000000 (2.05%)\tLoss: 0.00013820532\n",
      "\tAction step: 20676/1000000 (2.07%)\tLoss: 0.00017420676\n",
      "\tAction step: 20712/1000000 (2.07%)\tLoss: 0.00015820712\n",
      "\tAction step: 20835/1000000 (2.08%)\tLoss: 0.000160\tAVG reward: 83\tTotal mean: 321.2962962962963\n",
      "\tAction step: 20877/1000000 (2.09%)\tLoss: 0.00010920877\n",
      "\tAction step: 20902/1000000 (2.09%)\tLoss: 0.00022720902\n",
      "\tAction step: 20947/1000000 (2.09%)\tLoss: 0.17198320947\n",
      "\tAction step: 21081/1000000 (2.11%)\tLoss: 0.00007521081\n",
      "\tAction step: 21129/1000000 (2.11%)\tLoss: 0.171959\tAVG reward: 50\tTotal mean: 318.1818181818182\n",
      "\tAction step: 21167/1000000 (2.12%)\tLoss: 0.00018521167\n",
      "\tAction step: 21345/1000000 (2.13%)\tLoss: 0.00022721345\n",
      "\tAction step: 21425/1000000 (2.14%)\tLoss: 0.00019621425\n",
      "\tAction step: 21463/1000000 (2.15%)\tLoss: 0.000123\tAVG reward: 50\tTotal mean: 315.17857142857144\n",
      "\tAction step: 21760/1000000 (2.18%)\tLoss: 0.00017521760\n",
      "\tAction step: 21769/1000000 (2.18%)\tLoss: 0.00017221769\n",
      "\tAction step: 21789/1000000 (2.18%)\tLoss: 0.000130\tAVG reward: 66\tTotal mean: 313.1578947368421\n",
      "\tAction step: 21797/1000000 (2.18%)\tLoss: 0.00007321797\n",
      "\tAction step: 21817/1000000 (2.18%)\tLoss: 0.00019521817\n",
      "\tAction step: 22044/1000000 (2.20%)\tLoss: 0.17133922044\n",
      "\tAction step: 22093/1000000 (2.21%)\tLoss: 0.00038222093\n",
      "\tAction step: 22103/1000000 (2.21%)\tLoss: 0.17097922103\n",
      "\tAction step: 22120/1000000 (2.21%)\tLoss: 0.34285322120\n",
      "\tAction step: 22207/1000000 (2.22%)\tLoss: 0.171679\tAVG reward: 100\tTotal mean: 312.9310344827586\n",
      "\tAction step: 22458/1000000 (2.25%)\tLoss: 0.00023722458\n",
      "\tAction step: 22479/1000000 (2.25%)\tLoss: 0.17218722479\n",
      "\tAction step: 22523/1000000 (2.25%)\tLoss: 0.172005\tAVG reward: 100\tTotal mean: 312.7118644067797\n",
      "\tAction step: 22633/1000000 (2.26%)\tLoss: 0.000144"
     ]
    }
   ],
   "source": [
    "import time\n",
    "agent = QLearningAgent(env)  \n",
    "ep_rewards = []\n",
    "total_reward = 0\n",
    "n_steps = 1000000  # total number of training steps\n",
    "copy_steps = 5000\n",
    "save_steps = 50\n",
    "\n",
    "\n",
    "# Train the model after 4 actions\n",
    "train_online_steps = 4\n",
    "\n",
    "# Train the model after 4 actions\n",
    "# Considered as a hyperparameter\n",
    "update_target_steps = 5000\n",
    "\n",
    "done=True\n",
    "for step in range(n_steps):\n",
    "    total_perc = step * 100 / n_steps\n",
    "    print(f\"\\r\\tAction step: {step}/{n_steps} ({total_perc:.2f}%)\\tLoss: {agent.loss_val:5f}\", end=\"\")\n",
    "    if done: # game over, start again\n",
    "        avg_reward = int(total_reward/3)\n",
    "        if total_reward:\n",
    "            ep_rewards.append(total_reward)\n",
    "        print(f\"\\tAVG reward: {avg_reward}\\tTotal mean: {np.mean(ep_rewards)}\")\n",
    "        obs = env.reset()\n",
    "        total_reward = 0\n",
    "        state = preprocess_observation(obs)\n",
    "\n",
    "\n",
    "    # Get a exploration/exploitation action depending on the\n",
    "    # current epsilon value\n",
    "#     q_values = agent.online.predict(state)\n",
    "    action = agent.get_action(state, step)\n",
    "\n",
    "    # Online DQN plays\n",
    "    next_obs, reward, done, info = env.step(action)\n",
    "    next_state = preprocess_observation(next_obs)\n",
    "    agent.save_to_memory(state, action, reward, next_state, done)\n",
    "    \n",
    "    if step > MIN_REPLAY_SIZE:\n",
    "        if step % train_online_steps == 0:\n",
    "            agent.train()\n",
    "\n",
    "        # Regularly copy the online DQN to the target DQN\n",
    "        if step % update_target_steps == 0:\n",
    "            agent.update_target()\n",
    "    \n",
    "    env.render()\n",
    "    total_reward += reward\n",
    "    state = next_state\n",
    "    # And save regularly\n",
    "#     if step % save_steps == 0:\n",
    "#         agent.saver.save(agent.sess, agent.checkpoint_path)\n",
    "env.close()"
   ]
  },
  {
   "cell_type": "code",
   "execution_count": null,
   "metadata": {},
   "outputs": [],
   "source": [
    "print(ep_rewards)"
   ]
  },
  {
   "cell_type": "markdown",
   "metadata": {},
   "source": [
    "1.8. Print the evolution of the total number of rewards w.r.t. the episodes.\n",
    "\n",
    "1.9. Analyse the behaviour of the saved agents, can you notice any emerging strategies?\n",
    "\n",
    "https://www.youtube.com/watch?v=OxOqLQ8Ed_k"
   ]
  },
  {
   "cell_type": "code",
   "execution_count": 107,
   "metadata": {},
   "outputs": [
    {
     "data": {
      "text/plain": [
       "array([[1],\n",
       "       [2],\n",
       "       [3]])"
      ]
     },
     "execution_count": 107,
     "metadata": {},
     "output_type": "execute_result"
    }
   ],
   "source": [
    "np.stack([1,2,3]).reshape(3,1)"
   ]
  },
  {
   "cell_type": "code",
   "execution_count": null,
   "metadata": {},
   "outputs": [],
   "source": []
  }
 ],
 "metadata": {
  "kernelspec": {
   "display_name": "Python 3",
   "language": "python",
   "name": "python3"
  },
  "language_info": {
   "codemirror_mode": {
    "name": "ipython",
    "version": 3
   },
   "file_extension": ".py",
   "mimetype": "text/x-python",
   "name": "python",
   "nbconvert_exporter": "python",
   "pygments_lexer": "ipython3",
   "version": "3.8.7"
  }
 },
 "nbformat": 4,
 "nbformat_minor": 4
}
