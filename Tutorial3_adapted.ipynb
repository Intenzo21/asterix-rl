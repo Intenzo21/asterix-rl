{
 "cells": [
  {
   "cell_type": "markdown",
   "metadata": {},
   "source": [
    "# University of Aberdeen\n",
    "\n",
    "## Applied AI (CS5079)\n",
    "\n",
    "### Tutorial (Day 3) - Reinforcement Learning with OpenAI Gym\n",
    "\n",
    "---\n",
    "\n",
    "The practical is inspired from the code on: https://github.com/ageron/handson-ml/blob/master/16_reinforcement_learning.ipynb\n",
    "\n",
    "\n",
    "## Learning Outcomes\n",
    "\n",
    "On successful completion of this component a student will have demonstrated competence in creating and training an agent to play an Atari game using the screen frames as input\n",
    "\n",
    "### In this tutorial, we will use the following libraries and modules"
   ]
  },
  {
   "cell_type": "code",
   "execution_count": 1,
   "metadata": {},
   "outputs": [
    {
     "name": "stderr",
     "output_type": "stream",
     "text": [
      "c:\\program files\\python38\\lib\\site-packages\\numpy\\_distributor_init.py:30: UserWarning: loaded more than 1 DLL from .libs:\n",
      "c:\\program files\\python38\\lib\\site-packages\\numpy\\.libs\\libopenblas.WCDJNK7YVMPZQ2ME2ZZHJJRJ3JIKNDB7.gfortran-win_amd64.dll\n",
      "c:\\program files\\python38\\lib\\site-packages\\numpy\\.libs\\libopenblas.XWYDX2IKJW2NMTWSFYNGFUWKQU3LYTCZ.gfortran-win_amd64.dll\n",
      "  warnings.warn(\"loaded more than 1 DLL from .libs:\"\n"
     ]
    }
   ],
   "source": [
    "# For deep neural networks\n",
    "import tensorflow.compat.v1 as tf\n",
    "\n",
    "# For data representation\n",
    "import numpy as np\n",
    "import random\n",
    "\n",
    "# For handling files\n",
    "import os\n",
    "\n",
    "# For plotting graphs\n",
    "import matplotlib\n",
    "import matplotlib.pyplot as plt\n",
    "%matplotlib inline\n",
    "\n",
    "# OpenAI Gym\n",
    "import gym\n",
    "env = gym.make(\"Asterix-v0\")\n",
    "# I have installed pyglet-1.5.11 for it work with BigSur"
   ]
  },
  {
   "cell_type": "markdown",
   "metadata": {},
   "source": [
    "## Atari Games\n",
    "\n",
    "In this tutorial, we will create an agent to play the Boxing Atari game. In this game, two boxers, one white and one black, compete against each other. When close enough, a boxer can hit his opponent with a punch which causes his opponent to reel back slightly. A match is completed either when one player lands 100 punches or two minutes have elapsed. In the case of a decision, the player with the most landed punches is the winner. Ties are possible. \n",
    "\n",
    "![Activision's Boxing Cartridge](img/Boxing.png)\n",
    "\n",
    "In this tutorial, we will use the pixels as inputs. The OpenAI Gym environment is `Boxing-v0`. \n",
    "\n",
    "### Naive Agent\n",
    "1.1. For the boxing game, describe the observations, the action space, the reward, the environment’s info dictionary and the episode.\n"
   ]
  },
  {
   "cell_type": "code",
   "execution_count": 2,
   "metadata": {},
   "outputs": [
    {
     "name": "stdout",
     "output_type": "stream",
     "text": [
      "Observation space: Box(210, 160, 3)\n",
      "Action space: Discrete(9)\n"
     ]
    }
   ],
   "source": [
    "print(\"Observation space:\", env.observation_space)\n",
    "print(\"Action space:\", env.action_space)"
   ]
  },
  {
   "cell_type": "markdown",
   "metadata": {},
   "source": [
    "The observation space is an RGB picture of size 210x160 whereas the action space is composed of the 18 possible moves from an ATARI controller. The info dictionary contains `ale.lives()` which refers to the number of lives left (but here there is no finite number of lives)."
   ]
  },
  {
   "cell_type": "markdown",
   "metadata": {},
   "source": [
    "1.2. Create a simple agent that performs random actions."
   ]
  },
  {
   "cell_type": "code",
   "execution_count": 3,
   "metadata": {},
   "outputs": [
    {
     "name": "stdout",
     "output_type": "stream",
     "text": [
      "Average reward: 0.0\n"
     ]
    }
   ],
   "source": [
    "class RandomAgent():\n",
    "    def __init__(self, env):\n",
    "        self.action_size = env.action_space.n\n",
    "        \n",
    "    def get_action(self, observation):\n",
    "        return random.choice(range(self.action_size))\n",
    "    \n",
    "total_reward=0\n",
    "agent = RandomAgent(env)\n",
    "numberOfEpisodes = 10\n",
    "# for steps in range(numberOfEpisodes):\n",
    "#     current_obs = env.reset()\n",
    "#     done = False\n",
    "#     while not done:\n",
    "#         action = agent.get_action(current_obs)\n",
    "#         next_obs, reward, done, info = env.step(action)\n",
    "#         total_reward += reward\n",
    "#         env.render()\n",
    "print(\"Average reward: {}\".format(total_reward/numberOfEpisodes))"
   ]
  },
  {
   "cell_type": "markdown",
   "metadata": {},
   "source": [
    "### Deep Q-Learning Agent\n",
    "\n",
    "1.3. Implement a pre-processing function to convert the $210\\times160$ RGB frames to $96\\times80$ greyscale frames. Then, change the type of the matrix to `int8`.\n"
   ]
  },
  {
   "cell_type": "code",
   "execution_count": 4,
   "metadata": {},
   "outputs": [
    {
     "data": {
      "image/png": "[encoded data removed]",
      "text/plain": [
       "<Figure size 432x288 with 1 Axes>"
      ]
     },
     "metadata": {
      "needs_background": "light"
     },
     "output_type": "display_data"
    },
    {
     "name": "stdout",
     "output_type": "stream",
     "text": [
      "float32\n"
     ]
    },
    {
     "data": {
      "image/png": "[encoded data removed]",
      "text/plain": [
       "<Figure size 432x288 with 1 Axes>"
      ]
     },
     "metadata": {
      "needs_background": "light"
     },
     "output_type": "display_data"
    }
   ],
   "source": [
    "obs = env.reset()\n",
    "from skimage.color import rgb2gray\n",
    "\n",
    "def preprocess_observation(observation):\n",
    "    img = observation[1:180:2, ::2] # This becomes 96, 80, 3\n",
    "#     print(img.shape)\n",
    "#     img = img.mean(axis=2) #to grayscale (values between 0 and 255)\n",
    "    img = rgb2gray(img)\n",
    "    img = img.astype(np.float32) # normalize from -128 to 127\n",
    "    return img.reshape(-1, 90, 80, 1)\n",
    "\n",
    "plt.imshow(obs)\n",
    "plt.show()\n",
    "print(preprocess_observation(obs)[0].dtype)\n",
    "plt.imshow(preprocess_observation(obs).reshape(90,80), cmap='gray')\n",
    "plt.show()"
   ]
  },
  {
   "cell_type": "markdown",
   "metadata": {},
   "source": [
    "1.4. Create a function `q_network` that (1) takes as input a variable of shape $(96,80,1)$, (2) creates a deep convolutional network with 3 convolutional hidden layers and two dense layers, and (3) returns the output layer and the trainable variables in a dictionary where the keys are the name of the variables."
   ]
  },
  {
   "cell_type": "code",
   "execution_count": 34,
   "metadata": {},
   "outputs": [],
   "source": [
    "# Import the Keras layer used for building our models\n",
    "from tensorflow.keras import Sequential\n",
    "from tensorflow.keras.layers import Dense, Flatten, Conv2D,\\\n",
    "MaxPool2D, Dropout, BatchNormalization\n",
    "from tensorflow.keras.optimizers import Adam\n",
    "\n",
    "INPUT_SHAPE = (90, 80, 1)\n",
    "NUM_ACTIONS = env.action_space.n\n",
    "BATCH_SIZE = 32"
   ]
  },
  {
   "cell_type": "markdown",
   "metadata": {},
   "source": [
    "1.5. Create an agent `QLearningAgent` with two deep convolutional networks (`online` and `target`) to predict the action to be taken from the game's frames. The `online` network will be trained and replace the `target`network every $5000$ training steps.\n",
    "\n",
    "\n",
    "1.6. Create a method `get_action` using a parameter $\\epsilon$ for making random moves. This parameter will decrease from $1$ to $0.1$.\n",
    "\n",
    "1.7. Create a method `train` to update the weights of the `online` network using the Q-values of the `target` network. We will use a discount rate of $0.99$. "
   ]
  },
  {
   "cell_type": "code",
   "execution_count": 46,
   "metadata": {},
   "outputs": [],
   "source": [
    "from collections import deque\n",
    "\n",
    "class QLearningAgent():\n",
    "    def __init__(self, env):\n",
    "        self.memory = deque(maxlen=2000)\n",
    "        self.loss_val = np.inf\n",
    "        self.action_size = NUM_ACTIONS\n",
    "        tf.reset_default_graph()\n",
    "        tf.disable_eager_execution()\n",
    "        self.discount_rate = 0.99\n",
    "        self.checkpoint_path = \"./my_dqn.ckpt\"\n",
    "\n",
    "        # Create the two networks for predicting the actions\n",
    "        # The first model makes the predictions for Q-values \n",
    "        # which are used to make a action.\n",
    "        self.online = self.q_network()\n",
    "        \n",
    "        # Build a target model for the prediction of future\n",
    "        # rewards. The weights of a target model get updated \n",
    "        # every 5000 steps thus when the loss between the \n",
    "        # Q-values is calculated the target Q-value is stable.\n",
    "        self.target = self.q_network()\n",
    "\n",
    "        #The \"target\" DNN will take the values of the \"online\" DNN\n",
    "        self.update_target()\n",
    "\n",
    "        # Saving the session\n",
    "#         self.saver = tf.train.Saver()\n",
    "#         self.sess = tf.Session()\n",
    "#         if os.path.isfile(self.checkpoint_path + \".index\"):\n",
    "#             self.saver.restore(self.sess, self.checkpoint_path)\n",
    "#         else:\n",
    "#             self.sess.run(tf.global_variables_initializer())\n",
    "#             self.sess.run(self.copy_online_to_target)\n",
    "\n",
    "    def q_network(self, filters_1=32, filters_2=64, filters_3=64, units=256):\n",
    "        \"\"\"Define and return the CNN model architecture\n",
    "        \"\"\"\n",
    "        # Ensure reproducibility of the results\n",
    "        # by resetting the random seeds\n",
    "        # reset_random_seeds()\n",
    "\n",
    "        # Build the model\n",
    "        model = Sequential()\n",
    "        model.add(Conv2D(32, kernel_size=8, padding=\"same\", strides=4, activation='relu', input_shape=INPUT_SHAPE))\n",
    "        model.add(Conv2D(64, kernel_size=4, padding=\"same\", strides=2, activation='relu'))\n",
    "        model.add(Conv2D(64, kernel_size=3, padding=\"same\", strides=1, activation='relu'))\n",
    "        model.add(Flatten())\n",
    "        model.add(Dense(512, activation='relu'))\n",
    "        model.add(Dense(NUM_ACTIONS, activation=\"linear\"))\n",
    "        model.compile(loss=\"mse\", optimizer=Adam(lr=0.001))\n",
    "        return model\n",
    "            \n",
    "    def update_target(self):\n",
    "        \"\"\"Update the target network with the online network weights\n",
    "        \"\"\"\n",
    "        # Get the online DQN weights\n",
    "        online_weights = self.online.get_weights()\n",
    "        \n",
    "        # Update the target DQN weights\n",
    "        self.target.set_weights(online_weights)\n",
    "        \n",
    "    #---- CHOSSING ACTION ----\n",
    "    def get_action(self, state, step):\n",
    "        epsilon = max(0.1, 1 - (0.9/2000000) * step)\n",
    "        if np.random.rand() < epsilon:\n",
    "            return np.random.randint(self.action_size) # random action\n",
    "        else:\n",
    "            q_values = self.online.predict(state)\n",
    "            return np.argmax(q_values) # optimal action\n",
    "    \n",
    "    def train(self, state, action, reward, new_state, done):\n",
    "        \"\"\"Train the online model and update the loss value\n",
    "        \"\"\"\n",
    "#         print()\n",
    "#         print(state.shape, type(state))\n",
    "#         input()\n",
    "#         if len(self.memory) < BATCH_SIZE:\n",
    "#             return\n",
    "#         samples = random.sample(self.memory, BATCH_SIZE)\n",
    "#         states = np.array([state.reshape(90,80,1) for state, *other in samples])\n",
    "#         targets = self.target.predict(states)\n",
    "#         print()\n",
    "#         print(targets, states.shape)\n",
    "#         input()\n",
    "        \n",
    "        target = self.target.predict(state)\n",
    "        if done:\n",
    "            target[0][action] = reward\n",
    "        else:\n",
    "            Q_future = np.amax(self.target.predict(new_state)[0])\n",
    "            target[0][action] = reward + Q_future * self.discount_rate\n",
    "#             targets.append(target)\n",
    "        hist = self.online.fit(state, target, epochs=1, verbose=0)\n",
    "        self.loss_val = hist.history['loss'][0]\n",
    "    \n",
    "    def save_to_memory(self, state, action, reward, new_state, done):\n",
    "        self.memory.append([state, action, reward, new_state, done])"
   ]
  },
  {
   "cell_type": "markdown",
   "metadata": {},
   "source": [
    "1.8. Train your network for $1,000,000$ training steps. Since the training process can take __a lot of time__, save your models every $1000$ training steps. You can choose to only train your model every $4$ frames instead of every frames."
   ]
  },
  {
   "cell_type": "code",
   "execution_count": 47,
   "metadata": {},
   "outputs": [
    {
     "name": "stdout",
     "output_type": "stream",
     "text": [
      "\r",
      "\tAction step: 0/1000000 (0.0%)\tLoss:   inf\r",
      "\tAction step: 1/1000000 (0.0%)\tLoss:   inf\r",
      "\tAction step: 2/1000000 (0.0%)\tLoss:   inf\r",
      "\tAction step: 3/1000000 (0.0%)\tLoss:   inf\r",
      "\tAction step: 4/1000000 (0.0%)\tLoss:   inf\r",
      "\tAction step: 5/1000000 (0.0%)\tLoss:   inf\r",
      "\tAction step: 6/1000000 (0.0%)\tLoss:   inf\r",
      "\tAction step: 7/1000000 (0.0%)\tLoss:   inf\r",
      "\tAction step: 8/1000000 (0.0%)\tLoss:   inf\r",
      "\tAction step: 9/1000000 (0.0%)\tLoss:   inf\r",
      "\tAction step: 10/1000000 (0.0%)\tLoss:   inf\r",
      "\tAction step: 11/1000000 (0.0%)\tLoss:   inf\r",
      "\tAction step: 12/1000000 (0.0%)\tLoss:   inf\r",
      "\tAction step: 13/1000000 (0.0%)\tLoss:   inf\r",
      "\tAction step: 14/1000000 (0.0%)\tLoss:   inf\r",
      "\tAction step: 15/1000000 (0.0%)\tLoss:   inf\r",
      "\tAction step: 16/1000000 (0.0%)\tLoss:   inf\r",
      "\tAction step: 17/1000000 (0.0%)\tLoss:   inf\r",
      "\tAction step: 18/1000000 (0.0%)\tLoss:   inf\r",
      "\tAction step: 19/1000000 (0.0%)\tLoss:   inf\r",
      "\tAction step: 20/1000000 (0.0%)\tLoss:   inf\r",
      "\tAction step: 21/1000000 (0.0%)\tLoss:   inf\r",
      "\tAction step: 22/1000000 (0.0%)\tLoss:   inf\r",
      "\tAction step: 23/1000000 (0.0%)\tLoss:   inf\r",
      "\tAction step: 24/1000000 (0.0%)\tLoss:   inf\r",
      "\tAction step: 25/1000000 (0.0%)\tLoss:   inf\r",
      "\tAction step: 26/1000000 (0.0%)\tLoss:   inf\r",
      "\tAction step: 27/1000000 (0.0%)\tLoss:   inf\r",
      "\tAction step: 28/1000000 (0.0%)\tLoss:   inf\r",
      "\tAction step: 29/1000000 (0.0%)\tLoss:   inf\r",
      "\tAction step: 30/1000000 (0.0%)\tLoss:   inf\r",
      "\tAction step: 31/1000000 (0.0%)\tLoss:   inf\r",
      "\tAction step: 32/1000000 (0.0%)\tLoss:   inf"
     ]
    },
    {
     "name": "stderr",
     "output_type": "stream",
     "text": [
      "c:\\program files\\python38\\lib\\site-packages\\keras\\engine\\training_v1.py:2079: UserWarning: `Model.state_updates` will be removed in a future version. This property should not be used in TensorFlow 2.0, as `updates` are applied automatically.\n",
      "  updates=self.state_updates,\n"
     ]
    },
    {
     "name": "stdout",
     "output_type": "stream",
     "text": [
      "\n",
      "[[ 3.35909612e-03  6.93080062e-03 -1.39201060e-04 -1.56468935e-02\n",
      "   5.28904423e-03 -1.19875930e-02 -8.41046311e-03 -4.68712859e-03\n",
      "   1.39762852e-02]\n",
      " [ 4.65540122e-03  1.29469056e-02  2.70340126e-04 -2.30806805e-02\n",
      "   1.93149084e-04 -6.37060916e-03  3.67169734e-04 -7.82597251e-03\n",
      "   2.32247785e-02]\n",
      " [-8.84171575e-04  1.53806657e-02  2.23951414e-04 -1.33261085e-02\n",
      "   8.32868274e-04 -1.13604665e-02 -1.08824600e-03 -5.92892803e-03\n",
      "   1.90251172e-02]\n",
      " [ 2.54053809e-03  1.07753901e-02  3.96577362e-03 -1.71638057e-02\n",
      "  -5.58109023e-05 -1.12543004e-02 -6.31460454e-03 -8.53031315e-03\n",
      "   1.69306416e-02]\n",
      " [ 3.90016474e-04  7.27119297e-03  5.24228998e-03 -1.99069045e-02\n",
      "  -2.38533947e-03 -1.33385845e-02 -8.19846429e-03 -1.73275883e-03\n",
      "   1.10662393e-02]\n",
      " [ 5.93808480e-04  8.85098800e-03  4.04955447e-03 -2.36082654e-02\n",
      "   5.18029230e-03 -9.50827263e-03  1.13156624e-03 -8.76346976e-03\n",
      "   1.21871512e-02]\n",
      " [-4.28344589e-03  1.21870395e-02 -1.04781357e-03 -1.66366100e-02\n",
      "  -1.69711863e-03 -7.59869395e-03 -4.40911762e-03 -2.05715373e-03\n",
      "   1.33706778e-02]\n",
      " [-5.99962613e-03  1.05210217e-02  2.16458831e-03 -2.15297490e-02\n",
      "   8.95438530e-03 -5.15438989e-03 -5.13677392e-03  1.60297798e-03\n",
      "   5.13632037e-03]\n",
      " [-3.75775062e-03  1.04771536e-02  2.34295381e-04 -2.03002840e-02\n",
      "   3.68824438e-03 -9.76163521e-03 -1.89027935e-03 -5.38535323e-03\n",
      "   1.26964506e-02]\n",
      " [-2.90665310e-03  7.53381616e-03  2.87176156e-03 -2.32296865e-02\n",
      "   1.77988363e-03 -1.60631668e-02 -3.37446434e-03 -8.55679810e-03\n",
      "   1.38908848e-02]\n",
      " [-7.10584922e-03  6.97477628e-03  7.39273848e-04 -2.07090788e-02\n",
      "   1.66253548e-03 -3.45233828e-03 -3.66033195e-03 -3.95458518e-03\n",
      "   1.21982321e-02]\n",
      " [-1.18811820e-02  1.10617885e-02  3.29635292e-03 -2.01881230e-02\n",
      "   3.52524919e-03 -1.47361066e-02 -4.37782379e-03 -3.06545128e-03\n",
      "   1.32545894e-02]\n",
      " [-9.03718546e-03  6.77674776e-03  4.64708079e-03 -1.59213319e-02\n",
      "  -9.21314349e-04 -5.98852476e-03 -8.00666213e-03 -5.12373913e-03\n",
      "   1.32782208e-02]\n",
      " [ 6.50403602e-03  1.11921225e-02  3.50879971e-04 -2.04772521e-02\n",
      "   2.27080332e-03 -1.40106166e-02 -6.86857104e-03 -6.10541971e-03\n",
      "   1.38620147e-02]\n",
      " [ 2.43567396e-03  9.11499932e-03  2.16444954e-04 -2.48588398e-02\n",
      "   7.07984436e-04 -9.62122064e-03 -4.89297044e-03 -9.84337740e-03\n",
      "   1.02270562e-02]\n",
      " [ 2.26277113e-03  8.35066102e-03  2.70845043e-03 -2.60457844e-02\n",
      "   5.98164648e-03 -1.18408408e-02 -2.56001437e-03 -9.61526111e-03\n",
      "   1.31630236e-02]\n",
      " [-5.84147312e-03  1.36179551e-02  1.80103839e-03 -1.52330538e-02\n",
      "  -2.01670034e-03 -1.04801049e-02 -2.95262458e-03 -2.39368412e-03\n",
      "   1.54078845e-02]\n",
      " [ 3.25497054e-03  1.26762902e-02  2.28763651e-03 -1.96174793e-02\n",
      "   3.35721276e-03 -1.28908427e-02 -3.65009112e-03 -7.66911497e-03\n",
      "   1.66470408e-02]\n",
      " [-4.28622076e-03  8.31990223e-03  7.73472665e-03 -1.54267605e-02\n",
      "   2.63830228e-03 -1.13911694e-02 -4.51950170e-03  1.61399366e-03\n",
      "   8.98787007e-03]\n",
      " [-9.43367369e-04  7.99000077e-03  5.42610651e-03 -1.96690671e-02\n",
      "  -7.15675822e-04 -1.38588948e-02 -1.08325351e-02 -2.76368274e-03\n",
      "   1.04747340e-02]\n",
      " [-5.31435478e-03  1.11042429e-02  1.54782447e-03 -1.93070527e-02\n",
      "   2.49611889e-03 -4.45470866e-03 -2.77930452e-03 -2.65400251e-03\n",
      "   1.33756809e-02]\n",
      " [-1.00619495e-02  8.26730020e-03  1.49670849e-03 -2.10605077e-02\n",
      "   5.51784458e-03 -2.75536999e-03 -2.26883264e-03 -3.76587966e-03\n",
      "   9.68785025e-03]\n",
      " [ 1.07560307e-03  1.00335982e-02  2.81338114e-03 -1.97553411e-02\n",
      "  -1.04382599e-03 -1.39044933e-02  5.45763760e-04 -8.28378461e-03\n",
      "   1.84503626e-02]\n",
      " [ 1.28104351e-04  1.17669292e-02  2.93033291e-03 -2.48824991e-02\n",
      "   4.46982123e-03 -1.41638964e-02 -8.99009872e-04 -6.97066449e-03\n",
      "   1.73095800e-02]\n",
      " [ 7.12350942e-04  1.07209245e-02  4.32725530e-04 -2.64197700e-02\n",
      "   2.07468285e-03 -1.42686432e-02 -6.52722316e-03 -4.96629067e-03\n",
      "   1.19612133e-02]\n",
      " [-7.44153885e-03  1.02522187e-02  3.00194626e-03 -1.79274660e-02\n",
      "   5.75734396e-03 -4.56768833e-03 -5.75394602e-03 -1.11149298e-03\n",
      "   4.38132975e-03]\n",
      " [-6.74981624e-04  1.12761986e-02  1.46771851e-03 -1.88392177e-02\n",
      "   2.34327954e-03 -1.26388352e-02 -4.04266827e-03 -5.19710220e-03\n",
      "   9.99249704e-03]\n",
      " [-7.16290344e-03  7.30603095e-03  4.59354371e-03 -2.16932222e-02\n",
      "   1.69292756e-03 -6.42653042e-03 -7.18693482e-03 -4.19348106e-03\n",
      "   8.38389620e-03]\n",
      " [ 5.72869368e-03  8.54730792e-03 -1.75451627e-04 -1.67428572e-02\n",
      "   3.07575939e-03 -9.08162072e-03 -1.72370416e-03 -8.05182569e-03\n",
      "   1.50342723e-02]\n",
      " [-3.78365535e-03  1.00017088e-02  1.55935483e-03 -1.99453458e-02\n",
      "  -2.78532563e-04 -1.23486258e-02 -7.10126944e-04 -6.60825521e-03\n",
      "   1.87690966e-02]\n",
      " [-7.29845092e-03  1.29134823e-02  3.88262561e-04 -1.39261605e-02\n",
      "   1.65458897e-03 -9.36684571e-03 -7.27541232e-03 -3.73725523e-03\n",
      "   1.54314395e-02]\n",
      " [-3.95007432e-03  8.02597124e-03  7.40864780e-03 -1.62617769e-02\n",
      "  -1.20293035e-03 -9.04678740e-03 -8.30045994e-03 -2.09441222e-03\n",
      "   1.04810363e-02]] (32, 90, 80, 1)\n"
     ]
    },
    {
     "ename": "KeyboardInterrupt",
     "evalue": "Interrupted by user",
     "output_type": "error",
     "traceback": [
      "\u001b[1;31m---------------------------------------------------------------------------\u001b[0m",
      "\u001b[1;31mKeyboardInterrupt\u001b[0m                         Traceback (most recent call last)",
      "\u001b[1;32m<ipython-input-47-7cac84aa7d5d>\u001b[0m in \u001b[0;36m<module>\u001b[1;34m\u001b[0m\n\u001b[0;32m     40\u001b[0m \u001b[1;33m\u001b[0m\u001b[0m\n\u001b[0;32m     41\u001b[0m     \u001b[1;32mif\u001b[0m \u001b[0mstep\u001b[0m \u001b[1;33m%\u001b[0m \u001b[0mtrain_online_steps\u001b[0m \u001b[1;33m==\u001b[0m \u001b[1;36m0\u001b[0m\u001b[1;33m:\u001b[0m\u001b[1;33m\u001b[0m\u001b[1;33m\u001b[0m\u001b[0m\n\u001b[1;32m---> 42\u001b[1;33m         \u001b[0magent\u001b[0m\u001b[1;33m.\u001b[0m\u001b[0mtrain\u001b[0m\u001b[1;33m(\u001b[0m\u001b[0mstate\u001b[0m\u001b[1;33m,\u001b[0m \u001b[0maction\u001b[0m\u001b[1;33m,\u001b[0m \u001b[0mreward\u001b[0m\u001b[1;33m,\u001b[0m \u001b[0mnext_state\u001b[0m\u001b[1;33m,\u001b[0m \u001b[0mdone\u001b[0m\u001b[1;33m)\u001b[0m\u001b[1;33m\u001b[0m\u001b[1;33m\u001b[0m\u001b[0m\n\u001b[0m\u001b[0;32m     43\u001b[0m \u001b[1;33m\u001b[0m\u001b[0m\n\u001b[0;32m     44\u001b[0m     \u001b[0menv\u001b[0m\u001b[1;33m.\u001b[0m\u001b[0mrender\u001b[0m\u001b[1;33m(\u001b[0m\u001b[1;33m)\u001b[0m\u001b[1;33m\u001b[0m\u001b[1;33m\u001b[0m\u001b[0m\n",
      "\u001b[1;32m<ipython-input-46-9519bb7f8b06>\u001b[0m in \u001b[0;36mtrain\u001b[1;34m(self, state, action, reward, new_state, done)\u001b[0m\n\u001b[0;32m     83\u001b[0m         \u001b[0mprint\u001b[0m\u001b[1;33m(\u001b[0m\u001b[1;33m)\u001b[0m\u001b[1;33m\u001b[0m\u001b[1;33m\u001b[0m\u001b[0m\n\u001b[0;32m     84\u001b[0m         \u001b[0mprint\u001b[0m\u001b[1;33m(\u001b[0m\u001b[0mtargets\u001b[0m\u001b[1;33m,\u001b[0m \u001b[0mstates\u001b[0m\u001b[1;33m.\u001b[0m\u001b[0mshape\u001b[0m\u001b[1;33m)\u001b[0m\u001b[1;33m\u001b[0m\u001b[1;33m\u001b[0m\u001b[0m\n\u001b[1;32m---> 85\u001b[1;33m         \u001b[0minput\u001b[0m\u001b[1;33m(\u001b[0m\u001b[1;33m)\u001b[0m\u001b[1;33m\u001b[0m\u001b[1;33m\u001b[0m\u001b[0m\n\u001b[0m\u001b[0;32m     86\u001b[0m \u001b[1;33m\u001b[0m\u001b[0m\n\u001b[0;32m     87\u001b[0m         \u001b[0mtarget\u001b[0m \u001b[1;33m=\u001b[0m \u001b[0mself\u001b[0m\u001b[1;33m.\u001b[0m\u001b[0mtarget\u001b[0m\u001b[1;33m.\u001b[0m\u001b[0mpredict\u001b[0m\u001b[1;33m(\u001b[0m\u001b[0mstate\u001b[0m\u001b[1;33m)\u001b[0m\u001b[1;33m\u001b[0m\u001b[1;33m\u001b[0m\u001b[0m\n",
      "\u001b[1;32mc:\\program files\\python38\\lib\\site-packages\\ipykernel\\kernelbase.py\u001b[0m in \u001b[0;36mraw_input\u001b[1;34m(self, prompt)\u001b[0m\n\u001b[0;32m    846\u001b[0m                 \u001b[1;34m\"raw_input was called, but this frontend does not support input requests.\"\u001b[0m\u001b[1;33m\u001b[0m\u001b[1;33m\u001b[0m\u001b[0m\n\u001b[0;32m    847\u001b[0m             )\n\u001b[1;32m--> 848\u001b[1;33m         return self._input_request(str(prompt),\n\u001b[0m\u001b[0;32m    849\u001b[0m             \u001b[0mself\u001b[0m\u001b[1;33m.\u001b[0m\u001b[0m_parent_ident\u001b[0m\u001b[1;33m,\u001b[0m\u001b[1;33m\u001b[0m\u001b[1;33m\u001b[0m\u001b[0m\n\u001b[0;32m    850\u001b[0m             \u001b[0mself\u001b[0m\u001b[1;33m.\u001b[0m\u001b[0m_parent_header\u001b[0m\u001b[1;33m,\u001b[0m\u001b[1;33m\u001b[0m\u001b[1;33m\u001b[0m\u001b[0m\n",
      "\u001b[1;32mc:\\program files\\python38\\lib\\site-packages\\ipykernel\\kernelbase.py\u001b[0m in \u001b[0;36m_input_request\u001b[1;34m(self, prompt, ident, parent, password)\u001b[0m\n\u001b[0;32m    890\u001b[0m             \u001b[1;32mexcept\u001b[0m \u001b[0mKeyboardInterrupt\u001b[0m\u001b[1;33m:\u001b[0m\u001b[1;33m\u001b[0m\u001b[1;33m\u001b[0m\u001b[0m\n\u001b[0;32m    891\u001b[0m                 \u001b[1;31m# re-raise KeyboardInterrupt, to truncate traceback\u001b[0m\u001b[1;33m\u001b[0m\u001b[1;33m\u001b[0m\u001b[1;33m\u001b[0m\u001b[0m\n\u001b[1;32m--> 892\u001b[1;33m                 \u001b[1;32mraise\u001b[0m \u001b[0mKeyboardInterrupt\u001b[0m\u001b[1;33m(\u001b[0m\u001b[1;34m\"Interrupted by user\"\u001b[0m\u001b[1;33m)\u001b[0m \u001b[1;32mfrom\u001b[0m \u001b[1;32mNone\u001b[0m\u001b[1;33m\u001b[0m\u001b[1;33m\u001b[0m\u001b[0m\n\u001b[0m\u001b[0;32m    893\u001b[0m             \u001b[1;32mexcept\u001b[0m \u001b[0mException\u001b[0m \u001b[1;32mas\u001b[0m \u001b[0me\u001b[0m\u001b[1;33m:\u001b[0m\u001b[1;33m\u001b[0m\u001b[1;33m\u001b[0m\u001b[0m\n\u001b[0;32m    894\u001b[0m                 \u001b[0mself\u001b[0m\u001b[1;33m.\u001b[0m\u001b[0mlog\u001b[0m\u001b[1;33m.\u001b[0m\u001b[0mwarning\u001b[0m\u001b[1;33m(\u001b[0m\u001b[1;34m\"Invalid Message:\"\u001b[0m\u001b[1;33m,\u001b[0m \u001b[0mexc_info\u001b[0m\u001b[1;33m=\u001b[0m\u001b[1;32mTrue\u001b[0m\u001b[1;33m)\u001b[0m\u001b[1;33m\u001b[0m\u001b[1;33m\u001b[0m\u001b[0m\n",
      "\u001b[1;31mKeyboardInterrupt\u001b[0m: Interrupted by user"
     ]
    }
   ],
   "source": [
    "import time\n",
    "agent = QLearningAgent(env)  \n",
    "ep_rewards = []\n",
    "total_reward = 0\n",
    "n_steps = 1000000  # total number of training steps\n",
    "copy_steps = 5000\n",
    "save_steps = 1000 \n",
    "\n",
    "# Train the model after 4 actions\n",
    "train_online_steps = 4\n",
    "\n",
    "# Train the model after 4 actions\n",
    "# Considered as a hyperparameter\n",
    "update_target_steps = 5000\n",
    "\n",
    "done=True\n",
    "for step in range(n_steps):\n",
    "    print(\"\\r\\tAction step: {}/{} ({:.1f}%)\\tLoss: {:5f}\".format(\n",
    "        step,\n",
    "        n_steps,\n",
    "        step * 100 / n_steps, \n",
    "        agent.loss_val), end=\"\")\n",
    "\n",
    "    if done: # game over, start again\n",
    "        obs = env.reset()\n",
    "        ep_rewards.append(total_reward)\n",
    "        total_reward = 0\n",
    "        state = preprocess_observation(obs)\n",
    "\n",
    "    total_perc = int(step * 100 / n_steps)\n",
    "\n",
    "    # Get a exploration/exploitation action depending on the\n",
    "    # current epsilon value\n",
    "#     q_values = agent.online.predict(state)\n",
    "    action = agent.get_action(state, step)\n",
    "\n",
    "    # Online DQN plays\n",
    "    next_obs, reward, done, info = env.step(action)\n",
    "    next_state = preprocess_observation(next_obs)\n",
    "    agent.save_to_memory(state, action, reward, next_state, done)\n",
    "    \n",
    "    if step % train_online_steps == 0:\n",
    "        agent.train(state, action, reward, next_state, done)\n",
    "\n",
    "    env.render()\n",
    "    total_reward += reward\n",
    "    state = next_state\n",
    "    # Regularly copy the online DQN to the target DQN\n",
    "    if step % update_target_steps == 0:\n",
    "        agent.update_target()\n",
    "#     # And save regularly\n",
    "#     if step % save_steps == 0:\n",
    "#         agent.saver.save(agent.sess, agent.checkpoint_path)\n",
    "env.close()"
   ]
  },
  {
   "cell_type": "markdown",
   "metadata": {},
   "source": [
    "1.8. Print the evolution of the total number of rewards w.r.t. the episodes.\n",
    "\n",
    "1.9. Analyse the behaviour of the saved agents, can you notice any emerging strategies?\n",
    "\n",
    "https://www.youtube.com/watch?v=OxOqLQ8Ed_k"
   ]
  },
  {
   "cell_type": "code",
   "execution_count": null,
   "metadata": {},
   "outputs": [],
   "source": []
  },
  {
   "cell_type": "code",
   "execution_count": null,
   "metadata": {},
   "outputs": [],
   "source": []
  }
 ],
 "metadata": {
  "kernelspec": {
   "display_name": "Python 3",
   "language": "python",
   "name": "python3"
  },
  "language_info": {
   "codemirror_mode": {
    "name": "ipython",
    "version": 3
   },
   "file_extension": ".py",
   "mimetype": "text/x-python",
   "name": "python",
   "nbconvert_exporter": "python",
   "pygments_lexer": "ipython3",
   "version": "3.8.7"
  }
 },
 "nbformat": 4,
 "nbformat_minor": 4
}
